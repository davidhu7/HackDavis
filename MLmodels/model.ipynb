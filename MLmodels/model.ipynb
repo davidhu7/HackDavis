{
 "metadata": {
  "language_info": {
   "codemirror_mode": {
    "name": "ipython",
    "version": 3
   },
   "file_extension": ".py",
   "mimetype": "text/x-python",
   "name": "python",
   "nbconvert_exporter": "python",
   "pygments_lexer": "ipython3",
   "version": "3.7.1-final"
  },
  "orig_nbformat": 2,
  "kernelspec": {
   "name": "python3",
   "display_name": "Python 3",
   "language": "python"
  }
 },
 "nbformat": 4,
 "nbformat_minor": 2,
 "cells": [
  {
   "cell_type": "code",
   "execution_count": 1,
   "metadata": {},
   "outputs": [],
   "source": [
    "import tensorflow as tf\n",
    "from tensorflow import keras\n",
    "import pandas as pd \n"
   ]
  },
  {
   "cell_type": "code",
   "execution_count": 2,
   "metadata": {},
   "outputs": [],
   "source": [
    "data = pd.read_csv(\"../data/Teams.csv\")"
   ]
  },
  {
   "cell_type": "code",
   "execution_count": 3,
   "metadata": {},
   "outputs": [],
   "source": [
    "data[\"yearID\"] = pd.to_datetime(data[\"yearID\"],format=\"%Y\").dt.year"
   ]
  },
  {
   "cell_type": "code",
   "execution_count": 4,
   "metadata": {},
   "outputs": [],
   "source": [
    "year = 2000\n",
    "data_s = data.loc[data[\"yearID\"]>year]"
   ]
  },
  {
   "cell_type": "code",
   "execution_count": 12,
   "metadata": {},
   "outputs": [],
   "source": [
    "data_s.drop(['lgID','teamID','franchID','divID','teamIDBR','teamIDlahman45','teamIDretro'],axis=1,inplace=True)"
   ]
  },
  {
   "cell_type": "code",
   "execution_count": 19,
   "metadata": {},
   "outputs": [],
   "source": [
    " team = list(data_s[\"name\"].unique())"
   ]
  },
  {
   "cell_type": "code",
   "execution_count": 20,
   "metadata": {},
   "outputs": [],
   "source": [
    "\n",
    "TEAMS = [\n",
    "    \"Chicago White Sox\",\n",
    "    \"Cleveland Indians\",\n",
    "    \"Detroit Tigers\",\n",
    "    \"Kansas City Royals\",\n",
    "    \"Minnesota Twins\",\n",
    "    \"Baltimore Orioles\",\n",
    "    \"Boston Red Sox\",\n",
    "    \"New York Yankees\",\n",
    "    \"Tampa Bay Rays\",\n",
    "    \"Toronto Blue Jays\",\n",
    "    \"Houston Astros\",\n",
    "    \"Los Angeles Angels\",\n",
    "    \"Oakland Athletics\",\n",
    "    \"Seattle Mariners\",\n",
    "    \"Texas Rangers\",\n",
    "    \"Chicago Cubs\",\n",
    "    \"Cincinnati Reds\",\n",
    "    \"Milwaukee Brewers\",\n",
    "    \"Pittsburgh Pirates\",\n",
    "    \"St. Louis Cardinals\",\n",
    "    \"Atlanta Braves\",\n",
    "    \"Miami Marlins\",\n",
    "    \"New York Mets\",\n",
    "    \"Philadelphia Phillies\",\n",
    "    \"Washington Nationals\",\n",
    "    \"Arizona Diamondbacks\",\n",
    "    \"Colorado Rockies\",\n",
    "    \"Los Angeles Dodgers\",\n",
    "    \"San Diego Padres\",\n",
    "    \"San Francisco Giants\"\n",
    "]"
   ]
  },
  {
   "cell_type": "code",
   "execution_count": 26,
   "metadata": {},
   "outputs": [
    {
     "output_type": "stream",
     "name": "stdout",
     "text": [
      "Anaheim Angels\nNOt in the list\nArizona Diamondbacks\nAtlanta Braves\nBaltimore Orioles\nBoston Red Sox\nChicago White Sox\nChicago Cubs\nCincinnati Reds\nCleveland Indians\nColorado Rockies\nDetroit Tigers\nFlorida Marlins\nNOt in the list\nHouston Astros\nKansas City Royals\nLos Angeles Dodgers\nMilwaukee Brewers\nMinnesota Twins\nMontreal Expos\nNOt in the list\nNew York Yankees\nNew York Mets\nOakland Athletics\nPhiladelphia Phillies\nPittsburgh Pirates\nSan Diego Padres\nSeattle Mariners\nSan Francisco Giants\nSt. Louis Cardinals\nTampa Bay Devil Rays\nNOt in the list\nTexas Rangers\nToronto Blue Jays\nLos Angeles Angels of Anaheim\nNOt in the list\nWashington Nationals\nTampa Bay Rays\nMiami Marlins\n"
     ]
    }
   ],
   "source": [
    "for t in team:\n",
    "    print(t)\n",
    "    if t not in TEAMS:\n",
    "        print(\"NOt in the list\")\n"
   ]
  },
  {
   "cell_type": "code",
   "execution_count": 24,
   "metadata": {},
   "outputs": [
    {
     "output_type": "execute_result",
     "data": {
      "text/plain": [
       "30"
      ]
     },
     "metadata": {},
     "execution_count": 24
    }
   ],
   "source": [
    "len(TEAMS)"
   ]
  },
  {
   "cell_type": "code",
   "execution_count": null,
   "metadata": {},
   "outputs": [],
   "source": []
  }
 ]
}