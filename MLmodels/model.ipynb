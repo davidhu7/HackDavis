{
 "metadata": {
  "language_info": {
   "codemirror_mode": {
    "name": "ipython",
    "version": 3
   },
   "file_extension": ".py",
   "mimetype": "text/x-python",
   "name": "python",
   "nbconvert_exporter": "python",
   "pygments_lexer": "ipython3",
   "version": "3.7.1-final"
  },
  "orig_nbformat": 2,
  "kernelspec": {
   "name": "python3",
   "display_name": "Python 3",
   "language": "python"
  }
 },
 "nbformat": 4,
 "nbformat_minor": 2,
 "cells": [
  {
   "cell_type": "code",
   "execution_count": 1,
   "metadata": {},
   "outputs": [],
   "source": [
    "import tensorflow as tf\n",
    "from tensorflow import keras\n",
    "import pandas as pd \n"
   ]
  },
  {
   "cell_type": "code",
   "execution_count": 3,
   "metadata": {},
   "outputs": [],
   "source": [
    "data = pd.read_csv(\"../data/Teams.csv\")"
   ]
  },
  {
   "cell_type": "code",
   "execution_count": 7,
   "metadata": {},
   "outputs": [],
   "source": [
    "data[\"yearID\"] = pd.to_datetime(data[\"yearID\"],format=\"%Y\").dt.year"
   ]
  },
  {
   "cell_type": "code",
   "execution_count": 9,
   "metadata": {},
   "outputs": [],
   "source": [
    "year = 2002\n",
    "data_s = data.loc[data[\"yearID\"]>year]"
   ]
  },
  {
   "cell_type": "code",
   "execution_count": 13,
   "metadata": {},
   "outputs": [
    {
     "output_type": "execute_result",
     "data": {
      "text/plain": [
       "      yearID lgID teamID     ...      teamIDBR teamIDlahman45  teamIDretro\n",
       "2415    2003   AL    ANA     ...           ANA            ANA          ANA\n",
       "2416    2003   NL    ARI     ...           ARI            ARI          ARI\n",
       "2417    2003   NL    ATL     ...           ATL            ATL          ATL\n",
       "2418    2003   AL    BAL     ...           BAL            BAL          BAL\n",
       "2419    2003   AL    BOS     ...           BOS            BOS          BOS\n",
       "2420    2003   AL    CHA     ...           CHW            CHA          CHA\n",
       "2421    2003   NL    CHN     ...           CHC            CHN          CHN\n",
       "2422    2003   NL    CIN     ...           CIN            CIN          CIN\n",
       "2423    2003   AL    CLE     ...           CLE            CLE          CLE\n",
       "2424    2003   NL    COL     ...           COL            COL          COL\n",
       "2425    2003   AL    DET     ...           DET            DET          DET\n",
       "2426    2003   NL    FLO     ...           FLA            FLO          FLO\n",
       "2427    2003   NL    HOU     ...           HOU            HOU          HOU\n",
       "2428    2003   AL    KCA     ...           KCR            KCA          KCA\n",
       "2429    2003   NL    LAN     ...           LAD            LAN          LAN\n",
       "\n",
       "[15 rows x 48 columns]"
      ],
      "text/html": "<div>\n<style scoped>\n    .dataframe tbody tr th:only-of-type {\n        vertical-align: middle;\n    }\n\n    .dataframe tbody tr th {\n        vertical-align: top;\n    }\n\n    .dataframe thead th {\n        text-align: right;\n    }\n</style>\n<table border=\"1\" class=\"dataframe\">\n  <thead>\n    <tr style=\"text-align: right;\">\n      <th></th>\n      <th>yearID</th>\n      <th>lgID</th>\n      <th>teamID</th>\n      <th>franchID</th>\n      <th>divID</th>\n      <th>Rank</th>\n      <th>G</th>\n      <th>Ghome</th>\n      <th>W</th>\n      <th>L</th>\n      <th>DivWin</th>\n      <th>WCWin</th>\n      <th>LgWin</th>\n      <th>WSWin</th>\n      <th>R</th>\n      <th>AB</th>\n      <th>H</th>\n      <th>2B</th>\n      <th>3B</th>\n      <th>HR</th>\n      <th>BB</th>\n      <th>SO</th>\n      <th>SB</th>\n      <th>CS</th>\n      <th>HBP</th>\n      <th>SF</th>\n      <th>RA</th>\n      <th>ER</th>\n      <th>ERA</th>\n      <th>CG</th>\n      <th>SHO</th>\n      <th>SV</th>\n      <th>IPouts</th>\n      <th>HA</th>\n      <th>HRA</th>\n      <th>BBA</th>\n      <th>SOA</th>\n      <th>E</th>\n      <th>DP</th>\n      <th>FP</th>\n      <th>name</th>\n      <th>park</th>\n      <th>attendance</th>\n      <th>BPF</th>\n      <th>PPF</th>\n      <th>teamIDBR</th>\n      <th>teamIDlahman45</th>\n      <th>teamIDretro</th>\n    </tr>\n  </thead>\n  <tbody>\n    <tr>\n      <th>2415</th>\n      <td>2003</td>\n      <td>AL</td>\n      <td>ANA</td>\n      <td>ANA</td>\n      <td>W</td>\n      <td>3</td>\n      <td>162</td>\n      <td>82.0</td>\n      <td>77</td>\n      <td>85</td>\n      <td>N</td>\n      <td>N</td>\n      <td>N</td>\n      <td>N</td>\n      <td>736</td>\n      <td>5487</td>\n      <td>1473</td>\n      <td>276</td>\n      <td>33</td>\n      <td>150</td>\n      <td>476</td>\n      <td>838.0</td>\n      <td>129.0</td>\n      <td>61.0</td>\n      <td>56.0</td>\n      <td>50.0</td>\n      <td>743</td>\n      <td>680</td>\n      <td>4.28</td>\n      <td>5</td>\n      <td>9</td>\n      <td>39</td>\n      <td>4294</td>\n      <td>1444</td>\n      <td>190</td>\n      <td>486</td>\n      <td>980</td>\n      <td>105</td>\n      <td>138.0</td>\n      <td>0.982</td>\n      <td>Anaheim Angels</td>\n      <td>Edison International Field</td>\n      <td>3061094.0</td>\n      <td>98</td>\n      <td>97</td>\n      <td>ANA</td>\n      <td>ANA</td>\n      <td>ANA</td>\n    </tr>\n    <tr>\n      <th>2416</th>\n      <td>2003</td>\n      <td>NL</td>\n      <td>ARI</td>\n      <td>ARI</td>\n      <td>W</td>\n      <td>3</td>\n      <td>162</td>\n      <td>81.0</td>\n      <td>84</td>\n      <td>78</td>\n      <td>N</td>\n      <td>N</td>\n      <td>N</td>\n      <td>N</td>\n      <td>717</td>\n      <td>5570</td>\n      <td>1467</td>\n      <td>303</td>\n      <td>47</td>\n      <td>152</td>\n      <td>531</td>\n      <td>1006.0</td>\n      <td>76.0</td>\n      <td>38.0</td>\n      <td>45.0</td>\n      <td>52.0</td>\n      <td>685</td>\n      <td>621</td>\n      <td>3.84</td>\n      <td>7</td>\n      <td>11</td>\n      <td>42</td>\n      <td>4365</td>\n      <td>1379</td>\n      <td>150</td>\n      <td>526</td>\n      <td>1291</td>\n      <td>107</td>\n      <td>132.0</td>\n      <td>0.983</td>\n      <td>Arizona Diamondbacks</td>\n      <td>Bank One Ballpark</td>\n      <td>2805542.0</td>\n      <td>108</td>\n      <td>109</td>\n      <td>ARI</td>\n      <td>ARI</td>\n      <td>ARI</td>\n    </tr>\n    <tr>\n      <th>2417</th>\n      <td>2003</td>\n      <td>NL</td>\n      <td>ATL</td>\n      <td>ATL</td>\n      <td>E</td>\n      <td>1</td>\n      <td>162</td>\n      <td>81.0</td>\n      <td>101</td>\n      <td>61</td>\n      <td>Y</td>\n      <td>N</td>\n      <td>N</td>\n      <td>N</td>\n      <td>907</td>\n      <td>5670</td>\n      <td>1608</td>\n      <td>321</td>\n      <td>31</td>\n      <td>235</td>\n      <td>545</td>\n      <td>933.0</td>\n      <td>68.0</td>\n      <td>22.0</td>\n      <td>49.0</td>\n      <td>49.0</td>\n      <td>740</td>\n      <td>663</td>\n      <td>4.10</td>\n      <td>4</td>\n      <td>7</td>\n      <td>51</td>\n      <td>4369</td>\n      <td>1425</td>\n      <td>147</td>\n      <td>555</td>\n      <td>992</td>\n      <td>121</td>\n      <td>166.0</td>\n      <td>0.981</td>\n      <td>Atlanta Braves</td>\n      <td>Turner Field</td>\n      <td>2401084.0</td>\n      <td>101</td>\n      <td>100</td>\n      <td>ATL</td>\n      <td>ATL</td>\n      <td>ATL</td>\n    </tr>\n    <tr>\n      <th>2418</th>\n      <td>2003</td>\n      <td>AL</td>\n      <td>BAL</td>\n      <td>BAL</td>\n      <td>E</td>\n      <td>4</td>\n      <td>163</td>\n      <td>81.0</td>\n      <td>71</td>\n      <td>91</td>\n      <td>N</td>\n      <td>N</td>\n      <td>N</td>\n      <td>N</td>\n      <td>743</td>\n      <td>5665</td>\n      <td>1516</td>\n      <td>277</td>\n      <td>24</td>\n      <td>152</td>\n      <td>431</td>\n      <td>902.0</td>\n      <td>89.0</td>\n      <td>36.0</td>\n      <td>54.0</td>\n      <td>40.0</td>\n      <td>820</td>\n      <td>767</td>\n      <td>4.76</td>\n      <td>9</td>\n      <td>3</td>\n      <td>41</td>\n      <td>4349</td>\n      <td>1579</td>\n      <td>198</td>\n      <td>526</td>\n      <td>981</td>\n      <td>105</td>\n      <td>164.0</td>\n      <td>0.983</td>\n      <td>Baltimore Orioles</td>\n      <td>Oriole Park at Camden Yards</td>\n      <td>2454523.0</td>\n      <td>99</td>\n      <td>99</td>\n      <td>BAL</td>\n      <td>BAL</td>\n      <td>BAL</td>\n    </tr>\n    <tr>\n      <th>2419</th>\n      <td>2003</td>\n      <td>AL</td>\n      <td>BOS</td>\n      <td>BOS</td>\n      <td>E</td>\n      <td>2</td>\n      <td>162</td>\n      <td>81.0</td>\n      <td>95</td>\n      <td>67</td>\n      <td>N</td>\n      <td>Y</td>\n      <td>N</td>\n      <td>N</td>\n      <td>961</td>\n      <td>5769</td>\n      <td>1667</td>\n      <td>371</td>\n      <td>40</td>\n      <td>238</td>\n      <td>620</td>\n      <td>943.0</td>\n      <td>88.0</td>\n      <td>35.0</td>\n      <td>53.0</td>\n      <td>64.0</td>\n      <td>809</td>\n      <td>729</td>\n      <td>4.48</td>\n      <td>5</td>\n      <td>6</td>\n      <td>36</td>\n      <td>4394</td>\n      <td>1503</td>\n      <td>153</td>\n      <td>488</td>\n      <td>1141</td>\n      <td>113</td>\n      <td>130.0</td>\n      <td>0.982</td>\n      <td>Boston Red Sox</td>\n      <td>Fenway Park II</td>\n      <td>2724165.0</td>\n      <td>105</td>\n      <td>103</td>\n      <td>BOS</td>\n      <td>BOS</td>\n      <td>BOS</td>\n    </tr>\n    <tr>\n      <th>2420</th>\n      <td>2003</td>\n      <td>AL</td>\n      <td>CHA</td>\n      <td>CHW</td>\n      <td>C</td>\n      <td>2</td>\n      <td>162</td>\n      <td>81.0</td>\n      <td>86</td>\n      <td>76</td>\n      <td>N</td>\n      <td>N</td>\n      <td>N</td>\n      <td>N</td>\n      <td>791</td>\n      <td>5487</td>\n      <td>1445</td>\n      <td>303</td>\n      <td>19</td>\n      <td>220</td>\n      <td>519</td>\n      <td>916.0</td>\n      <td>77.0</td>\n      <td>29.0</td>\n      <td>58.0</td>\n      <td>41.0</td>\n      <td>715</td>\n      <td>663</td>\n      <td>4.17</td>\n      <td>12</td>\n      <td>4</td>\n      <td>36</td>\n      <td>4293</td>\n      <td>1364</td>\n      <td>162</td>\n      <td>518</td>\n      <td>1056</td>\n      <td>93</td>\n      <td>154.0</td>\n      <td>0.984</td>\n      <td>Chicago White Sox</td>\n      <td>U.S. Cellular Field</td>\n      <td>1939524.0</td>\n      <td>102</td>\n      <td>102</td>\n      <td>CHW</td>\n      <td>CHA</td>\n      <td>CHA</td>\n    </tr>\n    <tr>\n      <th>2421</th>\n      <td>2003</td>\n      <td>NL</td>\n      <td>CHN</td>\n      <td>CHC</td>\n      <td>C</td>\n      <td>1</td>\n      <td>162</td>\n      <td>81.0</td>\n      <td>88</td>\n      <td>74</td>\n      <td>Y</td>\n      <td>N</td>\n      <td>N</td>\n      <td>N</td>\n      <td>724</td>\n      <td>5519</td>\n      <td>1431</td>\n      <td>302</td>\n      <td>24</td>\n      <td>172</td>\n      <td>492</td>\n      <td>1158.0</td>\n      <td>73.0</td>\n      <td>31.0</td>\n      <td>50.0</td>\n      <td>46.0</td>\n      <td>683</td>\n      <td>619</td>\n      <td>3.83</td>\n      <td>13</td>\n      <td>14</td>\n      <td>36</td>\n      <td>4369</td>\n      <td>1304</td>\n      <td>143</td>\n      <td>617</td>\n      <td>1404</td>\n      <td>106</td>\n      <td>157.0</td>\n      <td>0.983</td>\n      <td>Chicago Cubs</td>\n      <td>Wrigley Field</td>\n      <td>2962630.0</td>\n      <td>101</td>\n      <td>101</td>\n      <td>CHC</td>\n      <td>CHN</td>\n      <td>CHN</td>\n    </tr>\n    <tr>\n      <th>2422</th>\n      <td>2003</td>\n      <td>NL</td>\n      <td>CIN</td>\n      <td>CIN</td>\n      <td>C</td>\n      <td>5</td>\n      <td>162</td>\n      <td>81.0</td>\n      <td>69</td>\n      <td>93</td>\n      <td>N</td>\n      <td>N</td>\n      <td>N</td>\n      <td>N</td>\n      <td>694</td>\n      <td>5509</td>\n      <td>1349</td>\n      <td>239</td>\n      <td>21</td>\n      <td>182</td>\n      <td>524</td>\n      <td>1326.0</td>\n      <td>80.0</td>\n      <td>34.0</td>\n      <td>79.0</td>\n      <td>32.0</td>\n      <td>886</td>\n      <td>818</td>\n      <td>5.09</td>\n      <td>4</td>\n      <td>5</td>\n      <td>38</td>\n      <td>4339</td>\n      <td>1578</td>\n      <td>209</td>\n      <td>590</td>\n      <td>932</td>\n      <td>141</td>\n      <td>152.0</td>\n      <td>0.977</td>\n      <td>Cincinnati Reds</td>\n      <td>Great American Ball Park</td>\n      <td>2355259.0</td>\n      <td>95</td>\n      <td>96</td>\n      <td>CIN</td>\n      <td>CIN</td>\n      <td>CIN</td>\n    </tr>\n    <tr>\n      <th>2423</th>\n      <td>2003</td>\n      <td>AL</td>\n      <td>CLE</td>\n      <td>CLE</td>\n      <td>C</td>\n      <td>4</td>\n      <td>162</td>\n      <td>81.0</td>\n      <td>68</td>\n      <td>94</td>\n      <td>N</td>\n      <td>N</td>\n      <td>N</td>\n      <td>N</td>\n      <td>699</td>\n      <td>5572</td>\n      <td>1413</td>\n      <td>296</td>\n      <td>26</td>\n      <td>158</td>\n      <td>466</td>\n      <td>1062.0</td>\n      <td>86.0</td>\n      <td>61.0</td>\n      <td>62.0</td>\n      <td>41.0</td>\n      <td>778</td>\n      <td>682</td>\n      <td>4.21</td>\n      <td>5</td>\n      <td>7</td>\n      <td>34</td>\n      <td>4378</td>\n      <td>1477</td>\n      <td>179</td>\n      <td>501</td>\n      <td>943</td>\n      <td>126</td>\n      <td>178.0</td>\n      <td>0.980</td>\n      <td>Cleveland Indians</td>\n      <td>Jacobs Field</td>\n      <td>1730002.0</td>\n      <td>96</td>\n      <td>97</td>\n      <td>CLE</td>\n      <td>CLE</td>\n      <td>CLE</td>\n    </tr>\n    <tr>\n      <th>2424</th>\n      <td>2003</td>\n      <td>NL</td>\n      <td>COL</td>\n      <td>COL</td>\n      <td>W</td>\n      <td>4</td>\n      <td>162</td>\n      <td>81.0</td>\n      <td>74</td>\n      <td>88</td>\n      <td>N</td>\n      <td>N</td>\n      <td>N</td>\n      <td>N</td>\n      <td>853</td>\n      <td>5518</td>\n      <td>1472</td>\n      <td>330</td>\n      <td>31</td>\n      <td>198</td>\n      <td>619</td>\n      <td>1134.0</td>\n      <td>63.0</td>\n      <td>37.0</td>\n      <td>52.0</td>\n      <td>38.0</td>\n      <td>892</td>\n      <td>821</td>\n      <td>5.20</td>\n      <td>3</td>\n      <td>4</td>\n      <td>34</td>\n      <td>4260</td>\n      <td>1629</td>\n      <td>200</td>\n      <td>552</td>\n      <td>866</td>\n      <td>116</td>\n      <td>165.0</td>\n      <td>0.981</td>\n      <td>Colorado Rockies</td>\n      <td>Coors Field</td>\n      <td>2334085.0</td>\n      <td>115</td>\n      <td>116</td>\n      <td>COL</td>\n      <td>COL</td>\n      <td>COL</td>\n    </tr>\n    <tr>\n      <th>2425</th>\n      <td>2003</td>\n      <td>AL</td>\n      <td>DET</td>\n      <td>DET</td>\n      <td>C</td>\n      <td>5</td>\n      <td>162</td>\n      <td>81.0</td>\n      <td>43</td>\n      <td>119</td>\n      <td>N</td>\n      <td>N</td>\n      <td>N</td>\n      <td>N</td>\n      <td>591</td>\n      <td>5466</td>\n      <td>1312</td>\n      <td>201</td>\n      <td>39</td>\n      <td>153</td>\n      <td>443</td>\n      <td>1099.0</td>\n      <td>98.0</td>\n      <td>63.0</td>\n      <td>47.0</td>\n      <td>49.0</td>\n      <td>928</td>\n      <td>847</td>\n      <td>5.30</td>\n      <td>3</td>\n      <td>5</td>\n      <td>27</td>\n      <td>4316</td>\n      <td>1616</td>\n      <td>195</td>\n      <td>557</td>\n      <td>764</td>\n      <td>138</td>\n      <td>194.0</td>\n      <td>0.978</td>\n      <td>Detroit Tigers</td>\n      <td>Comerica Park</td>\n      <td>1368245.0</td>\n      <td>93</td>\n      <td>95</td>\n      <td>DET</td>\n      <td>DET</td>\n      <td>DET</td>\n    </tr>\n    <tr>\n      <th>2426</th>\n      <td>2003</td>\n      <td>NL</td>\n      <td>FLO</td>\n      <td>FLA</td>\n      <td>E</td>\n      <td>2</td>\n      <td>162</td>\n      <td>81.0</td>\n      <td>91</td>\n      <td>71</td>\n      <td>N</td>\n      <td>Y</td>\n      <td>Y</td>\n      <td>Y</td>\n      <td>751</td>\n      <td>5490</td>\n      <td>1459</td>\n      <td>292</td>\n      <td>44</td>\n      <td>157</td>\n      <td>515</td>\n      <td>978.0</td>\n      <td>150.0</td>\n      <td>74.0</td>\n      <td>57.0</td>\n      <td>41.0</td>\n      <td>692</td>\n      <td>648</td>\n      <td>4.04</td>\n      <td>7</td>\n      <td>11</td>\n      <td>36</td>\n      <td>4336</td>\n      <td>1415</td>\n      <td>128</td>\n      <td>530</td>\n      <td>1132</td>\n      <td>78</td>\n      <td>162.0</td>\n      <td>0.987</td>\n      <td>Florida Marlins</td>\n      <td>Pro Player Stadium</td>\n      <td>1303215.0</td>\n      <td>98</td>\n      <td>98</td>\n      <td>FLA</td>\n      <td>FLO</td>\n      <td>FLO</td>\n    </tr>\n    <tr>\n      <th>2427</th>\n      <td>2003</td>\n      <td>NL</td>\n      <td>HOU</td>\n      <td>HOU</td>\n      <td>C</td>\n      <td>2</td>\n      <td>162</td>\n      <td>81.0</td>\n      <td>87</td>\n      <td>75</td>\n      <td>N</td>\n      <td>N</td>\n      <td>N</td>\n      <td>N</td>\n      <td>805</td>\n      <td>5583</td>\n      <td>1466</td>\n      <td>308</td>\n      <td>30</td>\n      <td>191</td>\n      <td>557</td>\n      <td>1021.0</td>\n      <td>66.0</td>\n      <td>30.0</td>\n      <td>81.0</td>\n      <td>38.0</td>\n      <td>677</td>\n      <td>622</td>\n      <td>3.86</td>\n      <td>1</td>\n      <td>5</td>\n      <td>50</td>\n      <td>4350</td>\n      <td>1350</td>\n      <td>161</td>\n      <td>565</td>\n      <td>1139</td>\n      <td>95</td>\n      <td>149.0</td>\n      <td>0.985</td>\n      <td>Houston Astros</td>\n      <td>Minute Maid Park</td>\n      <td>2454241.0</td>\n      <td>103</td>\n      <td>102</td>\n      <td>HOU</td>\n      <td>HOU</td>\n      <td>HOU</td>\n    </tr>\n    <tr>\n      <th>2428</th>\n      <td>2003</td>\n      <td>AL</td>\n      <td>KCA</td>\n      <td>KCR</td>\n      <td>C</td>\n      <td>3</td>\n      <td>162</td>\n      <td>80.0</td>\n      <td>83</td>\n      <td>79</td>\n      <td>N</td>\n      <td>N</td>\n      <td>N</td>\n      <td>N</td>\n      <td>836</td>\n      <td>5568</td>\n      <td>1526</td>\n      <td>288</td>\n      <td>39</td>\n      <td>162</td>\n      <td>476</td>\n      <td>926.0</td>\n      <td>120.0</td>\n      <td>42.0</td>\n      <td>75.0</td>\n      <td>57.0</td>\n      <td>867</td>\n      <td>808</td>\n      <td>5.05</td>\n      <td>7</td>\n      <td>10</td>\n      <td>36</td>\n      <td>4316</td>\n      <td>1569</td>\n      <td>190</td>\n      <td>566</td>\n      <td>865</td>\n      <td>108</td>\n      <td>143.0</td>\n      <td>0.982</td>\n      <td>Kansas City Royals</td>\n      <td>Kauffman Stadium</td>\n      <td>1779895.0</td>\n      <td>107</td>\n      <td>108</td>\n      <td>KCR</td>\n      <td>KCA</td>\n      <td>KCA</td>\n    </tr>\n    <tr>\n      <th>2429</th>\n      <td>2003</td>\n      <td>NL</td>\n      <td>LAN</td>\n      <td>LAD</td>\n      <td>W</td>\n      <td>2</td>\n      <td>162</td>\n      <td>81.0</td>\n      <td>85</td>\n      <td>77</td>\n      <td>N</td>\n      <td>N</td>\n      <td>N</td>\n      <td>N</td>\n      <td>574</td>\n      <td>5458</td>\n      <td>1328</td>\n      <td>260</td>\n      <td>25</td>\n      <td>124</td>\n      <td>407</td>\n      <td>985.0</td>\n      <td>80.0</td>\n      <td>36.0</td>\n      <td>72.0</td>\n      <td>28.0</td>\n      <td>556</td>\n      <td>511</td>\n      <td>3.16</td>\n      <td>3</td>\n      <td>17</td>\n      <td>58</td>\n      <td>4373</td>\n      <td>1254</td>\n      <td>127</td>\n      <td>526</td>\n      <td>1289</td>\n      <td>119</td>\n      <td>164.0</td>\n      <td>0.981</td>\n      <td>Los Angeles Dodgers</td>\n      <td>Dodger Stadium</td>\n      <td>3138626.0</td>\n      <td>94</td>\n      <td>94</td>\n      <td>LAD</td>\n      <td>LAN</td>\n      <td>LAN</td>\n    </tr>\n  </tbody>\n</table>\n</div>"
     },
     "metadata": {},
     "execution_count": 13
    }
   ],
   "source": [
    "#All the datas where year > 2002\n",
    "data_s.head(15)"
   ]
  },
  {
   "cell_type": "code",
   "execution_count": null,
   "metadata": {},
   "outputs": [],
   "source": []
  }
 ]
}