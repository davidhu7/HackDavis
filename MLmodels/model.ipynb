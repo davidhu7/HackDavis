{
 "metadata": {
  "language_info": {
   "codemirror_mode": {
    "name": "ipython",
    "version": 3
   },
   "file_extension": ".py",
   "mimetype": "text/x-python",
   "name": "python",
   "nbconvert_exporter": "python",
   "pygments_lexer": "ipython3",
   "version": "3.7.1-final"
  },
  "orig_nbformat": 2,
  "kernelspec": {
   "name": "python3",
   "display_name": "Python 3",
   "language": "python"
  }
 },
 "nbformat": 4,
 "nbformat_minor": 2,
 "cells": [
  {
   "cell_type": "code",
   "execution_count": 4,
   "metadata": {},
   "outputs": [],
   "source": [
    "import tensorflow as tf\n",
    "from tensorflow import keras\n",
    "import pandas as pd \n"
   ]
  },
  {
   "cell_type": "code",
   "execution_count": 5,
   "metadata": {},
   "outputs": [],
   "source": [
    "data = pd.read_csv(\"../data/Teams.csv\")\n",
    "training_data = pd.read_csv(\"../data/Teams.csv\")"
   ]
  },
  {
   "cell_type": "code",
   "execution_count": 6,
   "metadata": {},
   "outputs": [],
   "source": [
    "data[\"yearID\"] = pd.to_datetime(data[\"yearID\"],format=\"%Y\").dt.year\n",
    "training_data['yearID'] = pd.to_datetime(training_data['yearID'],format=\"%Y\").dt.year"
   ]
  },
  {
   "cell_type": "code",
   "execution_count": 7,
   "metadata": {},
   "outputs": [],
   "source": [
    "year = 2000\n",
    "data_s = data.loc[data[\"yearID\"]>year]"
   ]
  },
  {
   "cell_type": "code",
   "execution_count": 8,
   "metadata": {},
   "outputs": [],
   "source": [
    "data_s.drop(['lgID','teamID','franchID','divID','teamIDBR','teamIDlahman45','teamIDretro'],axis=1,inplace=True)\n",
    "training_data.drop(['lgID','teamID','franchID','divID','teamIDBR','teamIDlahman45','teamIDretro'],axis=1,inplace=True)"
   ]
  },
  {
   "cell_type": "code",
   "execution_count": 9,
   "metadata": {},
   "outputs": [],
   "source": [
    " team = list(data_s[\"name\"].unique())"
   ]
  },
  {
   "cell_type": "code",
   "execution_count": 10,
   "metadata": {},
   "outputs": [
    {
     "output_type": "execute_result",
     "data": {
      "text/plain": [
       "Index(['yearID', 'Rank', 'G', 'Ghome', 'W', 'L', 'DivWin', 'WCWin', 'LgWin',\n",
       "       'WSWin', 'R', 'AB', 'H', '2B', '3B', 'HR', 'BB', 'SO', 'SB', 'CS',\n",
       "       'HBP', 'SF', 'RA', 'ER', 'ERA', 'CG', 'SHO', 'SV', 'IPouts', 'HA',\n",
       "       'HRA', 'BBA', 'SOA', 'E', 'DP', 'FP', 'name', 'park', 'attendance',\n",
       "       'BPF', 'PPF'],\n",
       "      dtype='object')"
      ]
     },
     "metadata": {},
     "execution_count": 10
    }
   ],
   "source": [
    "data_s.columns"
   ]
  },
  {
   "cell_type": "code",
   "execution_count": 11,
   "metadata": {},
   "outputs": [],
   "source": [
    "data_s.drop([\"G\",\"Ghome\",\"DivWin\",\"WCWin\",\"2B\",\"3B\",\"HR\",\"SO\",\"CS\",\"SF\",\"RA\",\"CG\",\"SHO\",\"SV\",\"IPouts\",\"HRA\",\"BBA\",\"SOA\",\"FP\"],axis=1,inplace=True)"
   ]
  },
  {
   "cell_type": "code",
   "execution_count": 12,
   "metadata": {},
   "outputs": [],
   "source": [
    "training_data.drop([\"G\",\"Ghome\",\"DivWin\",\"WCWin\",\"2B\",\"3B\",\"HR\",\"SO\",\"CS\",\"SF\",\"RA\",\"CG\",\"SHO\",\"SV\",\"IPouts\",\"HRA\",\"BBA\",\"SOA\",\"FP\"],axis=1,inplace=True)"
   ]
  },
  {
   "cell_type": "code",
   "execution_count": 13,
   "metadata": {},
   "outputs": [
    {
     "output_type": "execute_result",
     "data": {
      "text/plain": [
       "59"
      ]
     },
     "metadata": {},
     "execution_count": 13
    }
   ],
   "source": [
    "len(data_s[\"park\"].unique())"
   ]
  },
  {
   "cell_type": "code",
   "execution_count": 14,
   "metadata": {},
   "outputs": [],
   "source": [
    "training_data.drop([\"name\",\"park\"],axis=1,inplace=True)"
   ]
  },
  {
   "cell_type": "code",
   "execution_count": 15,
   "metadata": {},
   "outputs": [
    {
     "output_type": "execute_result",
     "data": {
      "text/plain": [
       "   yearID  Rank   W   L LgWin WSWin    R    AB    H  BB    SB  HBP   ER   ERA  \\\n",
       "0    1871     3  20  10     N   NaN  401  1372  426  60  73.0  NaN  109  3.55   \n",
       "1    1871     2  19   9     N   NaN  302  1196  323  60  69.0  NaN   77  2.76   \n",
       "2    1871     8  10  19     N   NaN  249  1186  328  26  18.0  NaN  116  4.11   \n",
       "3    1871     7   7  12     N   NaN  137   746  178  33  16.0  NaN   97  5.17   \n",
       "4    1871     5  16  17     N   NaN  302  1404  403  33  46.0  NaN  121  3.72   \n",
       "5    1871     1  21   7     Y   NaN  376  1281  410  46  56.0  NaN  137  4.95   \n",
       "6    1871     9   4  21     N   NaN  231  1036  274  38  53.0  NaN  108  4.30   \n",
       "7    1871     6  13  15     N   NaN  351  1248  384  49  62.0  NaN  153  5.51   \n",
       "8    1871     4  15  15     N   NaN  310  1353  375  48  48.0  NaN  137  4.37   \n",
       "9    1872     2  35  19     N   NaN  617  2576  747  27  35.0  NaN  173  3.02   \n",
       "\n",
       "    HA    E  DP  attendance  BPF  PPF  \n",
       "0  367  225 NaN         NaN  103   98  \n",
       "1  308  218 NaN         NaN  104  102  \n",
       "2  346  223 NaN         NaN   96  100  \n",
       "3  261  163 NaN         NaN  101  107  \n",
       "4  373  227 NaN         NaN   90   88  \n",
       "5  329  194 NaN         NaN  102   98  \n",
       "6  315  220 NaN         NaN   97   99  \n",
       "7  431  198 NaN         NaN  101  100  \n",
       "8  371  217 NaN         NaN   94   98  \n",
       "9  566  432 NaN         NaN  106  102  "
      ],
      "text/html": "<div>\n<style scoped>\n    .dataframe tbody tr th:only-of-type {\n        vertical-align: middle;\n    }\n\n    .dataframe tbody tr th {\n        vertical-align: top;\n    }\n\n    .dataframe thead th {\n        text-align: right;\n    }\n</style>\n<table border=\"1\" class=\"dataframe\">\n  <thead>\n    <tr style=\"text-align: right;\">\n      <th></th>\n      <th>yearID</th>\n      <th>Rank</th>\n      <th>W</th>\n      <th>L</th>\n      <th>LgWin</th>\n      <th>WSWin</th>\n      <th>R</th>\n      <th>AB</th>\n      <th>H</th>\n      <th>BB</th>\n      <th>SB</th>\n      <th>HBP</th>\n      <th>ER</th>\n      <th>ERA</th>\n      <th>HA</th>\n      <th>E</th>\n      <th>DP</th>\n      <th>attendance</th>\n      <th>BPF</th>\n      <th>PPF</th>\n    </tr>\n  </thead>\n  <tbody>\n    <tr>\n      <th>0</th>\n      <td>1871</td>\n      <td>3</td>\n      <td>20</td>\n      <td>10</td>\n      <td>N</td>\n      <td>NaN</td>\n      <td>401</td>\n      <td>1372</td>\n      <td>426</td>\n      <td>60</td>\n      <td>73.0</td>\n      <td>NaN</td>\n      <td>109</td>\n      <td>3.55</td>\n      <td>367</td>\n      <td>225</td>\n      <td>NaN</td>\n      <td>NaN</td>\n      <td>103</td>\n      <td>98</td>\n    </tr>\n    <tr>\n      <th>1</th>\n      <td>1871</td>\n      <td>2</td>\n      <td>19</td>\n      <td>9</td>\n      <td>N</td>\n      <td>NaN</td>\n      <td>302</td>\n      <td>1196</td>\n      <td>323</td>\n      <td>60</td>\n      <td>69.0</td>\n      <td>NaN</td>\n      <td>77</td>\n      <td>2.76</td>\n      <td>308</td>\n      <td>218</td>\n      <td>NaN</td>\n      <td>NaN</td>\n      <td>104</td>\n      <td>102</td>\n    </tr>\n    <tr>\n      <th>2</th>\n      <td>1871</td>\n      <td>8</td>\n      <td>10</td>\n      <td>19</td>\n      <td>N</td>\n      <td>NaN</td>\n      <td>249</td>\n      <td>1186</td>\n      <td>328</td>\n      <td>26</td>\n      <td>18.0</td>\n      <td>NaN</td>\n      <td>116</td>\n      <td>4.11</td>\n      <td>346</td>\n      <td>223</td>\n      <td>NaN</td>\n      <td>NaN</td>\n      <td>96</td>\n      <td>100</td>\n    </tr>\n    <tr>\n      <th>3</th>\n      <td>1871</td>\n      <td>7</td>\n      <td>7</td>\n      <td>12</td>\n      <td>N</td>\n      <td>NaN</td>\n      <td>137</td>\n      <td>746</td>\n      <td>178</td>\n      <td>33</td>\n      <td>16.0</td>\n      <td>NaN</td>\n      <td>97</td>\n      <td>5.17</td>\n      <td>261</td>\n      <td>163</td>\n      <td>NaN</td>\n      <td>NaN</td>\n      <td>101</td>\n      <td>107</td>\n    </tr>\n    <tr>\n      <th>4</th>\n      <td>1871</td>\n      <td>5</td>\n      <td>16</td>\n      <td>17</td>\n      <td>N</td>\n      <td>NaN</td>\n      <td>302</td>\n      <td>1404</td>\n      <td>403</td>\n      <td>33</td>\n      <td>46.0</td>\n      <td>NaN</td>\n      <td>121</td>\n      <td>3.72</td>\n      <td>373</td>\n      <td>227</td>\n      <td>NaN</td>\n      <td>NaN</td>\n      <td>90</td>\n      <td>88</td>\n    </tr>\n    <tr>\n      <th>5</th>\n      <td>1871</td>\n      <td>1</td>\n      <td>21</td>\n      <td>7</td>\n      <td>Y</td>\n      <td>NaN</td>\n      <td>376</td>\n      <td>1281</td>\n      <td>410</td>\n      <td>46</td>\n      <td>56.0</td>\n      <td>NaN</td>\n      <td>137</td>\n      <td>4.95</td>\n      <td>329</td>\n      <td>194</td>\n      <td>NaN</td>\n      <td>NaN</td>\n      <td>102</td>\n      <td>98</td>\n    </tr>\n    <tr>\n      <th>6</th>\n      <td>1871</td>\n      <td>9</td>\n      <td>4</td>\n      <td>21</td>\n      <td>N</td>\n      <td>NaN</td>\n      <td>231</td>\n      <td>1036</td>\n      <td>274</td>\n      <td>38</td>\n      <td>53.0</td>\n      <td>NaN</td>\n      <td>108</td>\n      <td>4.30</td>\n      <td>315</td>\n      <td>220</td>\n      <td>NaN</td>\n      <td>NaN</td>\n      <td>97</td>\n      <td>99</td>\n    </tr>\n    <tr>\n      <th>7</th>\n      <td>1871</td>\n      <td>6</td>\n      <td>13</td>\n      <td>15</td>\n      <td>N</td>\n      <td>NaN</td>\n      <td>351</td>\n      <td>1248</td>\n      <td>384</td>\n      <td>49</td>\n      <td>62.0</td>\n      <td>NaN</td>\n      <td>153</td>\n      <td>5.51</td>\n      <td>431</td>\n      <td>198</td>\n      <td>NaN</td>\n      <td>NaN</td>\n      <td>101</td>\n      <td>100</td>\n    </tr>\n    <tr>\n      <th>8</th>\n      <td>1871</td>\n      <td>4</td>\n      <td>15</td>\n      <td>15</td>\n      <td>N</td>\n      <td>NaN</td>\n      <td>310</td>\n      <td>1353</td>\n      <td>375</td>\n      <td>48</td>\n      <td>48.0</td>\n      <td>NaN</td>\n      <td>137</td>\n      <td>4.37</td>\n      <td>371</td>\n      <td>217</td>\n      <td>NaN</td>\n      <td>NaN</td>\n      <td>94</td>\n      <td>98</td>\n    </tr>\n    <tr>\n      <th>9</th>\n      <td>1872</td>\n      <td>2</td>\n      <td>35</td>\n      <td>19</td>\n      <td>N</td>\n      <td>NaN</td>\n      <td>617</td>\n      <td>2576</td>\n      <td>747</td>\n      <td>27</td>\n      <td>35.0</td>\n      <td>NaN</td>\n      <td>173</td>\n      <td>3.02</td>\n      <td>566</td>\n      <td>432</td>\n      <td>NaN</td>\n      <td>NaN</td>\n      <td>106</td>\n      <td>102</td>\n    </tr>\n  </tbody>\n</table>\n</div>"
     },
     "metadata": {},
     "execution_count": 15
    }
   ],
   "source": [
    "training_data.head(10)"
   ]
  },
  {
   "cell_type": "code",
   "execution_count": 16,
   "metadata": {},
   "outputs": [
    {
     "output_type": "display_data",
     "data": {
      "text/plain": "<Figure size 640x480 with 1 Axes>"
     },
     "metadata": {}
    }
   ],
   "source": [
    "import matplotlib.pyplot as plt\n",
    "fig = plt.figure()\n",
    "ax = fig.add_axes([0,0,1,1])\n",
    "for column in training_data:\n",
    "    ax.bar(column,(training_data[column].isnull().sum()/len(training_data))*100,width=0.25)\n",
    "plt.show()   "
   ]
  },
  {
   "cell_type": "code",
   "execution_count": 17,
   "metadata": {},
   "outputs": [
    {
     "output_type": "execute_result",
     "data": {
      "text/plain": [
       "yearID           0\n",
       "Rank             0\n",
       "W                0\n",
       "L                0\n",
       "LgWin           28\n",
       "WSWin          357\n",
       "R                0\n",
       "AB               0\n",
       "H                0\n",
       "BB               0\n",
       "SB             144\n",
       "HBP           2325\n",
       "ER               0\n",
       "ERA              0\n",
       "HA               0\n",
       "E                0\n",
       "DP             317\n",
       "attendance     279\n",
       "BPF              0\n",
       "PPF              0\n",
       "dtype: int64"
      ]
     },
     "metadata": {},
     "execution_count": 17
    }
   ],
   "source": [
    "training_data.isnull().sum()"
   ]
  },
  {
   "cell_type": "code",
   "execution_count": 18,
   "metadata": {},
   "outputs": [],
   "source": [
    "training_data.drop(\"HBP\",axis=1,inplace=True)\n",
    "data_s.drop(\"HBP\",axis=1,inplace=True)"
   ]
  },
  {
   "cell_type": "code",
   "execution_count": 19,
   "metadata": {},
   "outputs": [],
   "source": [
    "#replacing the Nan values with 0\n",
    "training_data[\"LgWin\"] = training_data[\"LgWin\"].fillna(0)\n",
    "training_data[\"WSWin\"] = training_data[\"WSWin\"].fillna(0)\n"
   ]
  },
  {
   "cell_type": "code",
   "execution_count": 20,
   "metadata": {},
   "outputs": [],
   "source": [
    "labels = training_data[\"Rank\"].copy()"
   ]
  },
  {
   "cell_type": "code",
   "execution_count": 21,
   "metadata": {},
   "outputs": [],
   "source": [
    "training_data.drop(\"Rank\",axis=1,inplace=True)"
   ]
  },
  {
   "cell_type": "code",
   "execution_count": 22,
   "metadata": {},
   "outputs": [
    {
     "output_type": "execute_result",
     "data": {
      "text/plain": [
       "   yearID   W   L LgWin WSWin    R    AB    H  BB    SB   ER   ERA   HA    E  \\\n",
       "0    1871  20  10     N     0  401  1372  426  60  73.0  109  3.55  367  225   \n",
       "1    1871  19   9     N     0  302  1196  323  60  69.0   77  2.76  308  218   \n",
       "2    1871  10  19     N     0  249  1186  328  26  18.0  116  4.11  346  223   \n",
       "3    1871   7  12     N     0  137   746  178  33  16.0   97  5.17  261  163   \n",
       "4    1871  16  17     N     0  302  1404  403  33  46.0  121  3.72  373  227   \n",
       "5    1871  21   7     Y     0  376  1281  410  46  56.0  137  4.95  329  194   \n",
       "6    1871   4  21     N     0  231  1036  274  38  53.0  108  4.30  315  220   \n",
       "7    1871  13  15     N     0  351  1248  384  49  62.0  153  5.51  431  198   \n",
       "8    1871  15  15     N     0  310  1353  375  48  48.0  137  4.37  371  217   \n",
       "9    1872  35  19     N     0  617  2576  747  27  35.0  173  3.02  566  432   \n",
       "\n",
       "   DP  attendance  BPF  PPF  \n",
       "0 NaN         NaN  103   98  \n",
       "1 NaN         NaN  104  102  \n",
       "2 NaN         NaN   96  100  \n",
       "3 NaN         NaN  101  107  \n",
       "4 NaN         NaN   90   88  \n",
       "5 NaN         NaN  102   98  \n",
       "6 NaN         NaN   97   99  \n",
       "7 NaN         NaN  101  100  \n",
       "8 NaN         NaN   94   98  \n",
       "9 NaN         NaN  106  102  "
      ],
      "text/html": "<div>\n<style scoped>\n    .dataframe tbody tr th:only-of-type {\n        vertical-align: middle;\n    }\n\n    .dataframe tbody tr th {\n        vertical-align: top;\n    }\n\n    .dataframe thead th {\n        text-align: right;\n    }\n</style>\n<table border=\"1\" class=\"dataframe\">\n  <thead>\n    <tr style=\"text-align: right;\">\n      <th></th>\n      <th>yearID</th>\n      <th>W</th>\n      <th>L</th>\n      <th>LgWin</th>\n      <th>WSWin</th>\n      <th>R</th>\n      <th>AB</th>\n      <th>H</th>\n      <th>BB</th>\n      <th>SB</th>\n      <th>ER</th>\n      <th>ERA</th>\n      <th>HA</th>\n      <th>E</th>\n      <th>DP</th>\n      <th>attendance</th>\n      <th>BPF</th>\n      <th>PPF</th>\n    </tr>\n  </thead>\n  <tbody>\n    <tr>\n      <th>0</th>\n      <td>1871</td>\n      <td>20</td>\n      <td>10</td>\n      <td>N</td>\n      <td>0</td>\n      <td>401</td>\n      <td>1372</td>\n      <td>426</td>\n      <td>60</td>\n      <td>73.0</td>\n      <td>109</td>\n      <td>3.55</td>\n      <td>367</td>\n      <td>225</td>\n      <td>NaN</td>\n      <td>NaN</td>\n      <td>103</td>\n      <td>98</td>\n    </tr>\n    <tr>\n      <th>1</th>\n      <td>1871</td>\n      <td>19</td>\n      <td>9</td>\n      <td>N</td>\n      <td>0</td>\n      <td>302</td>\n      <td>1196</td>\n      <td>323</td>\n      <td>60</td>\n      <td>69.0</td>\n      <td>77</td>\n      <td>2.76</td>\n      <td>308</td>\n      <td>218</td>\n      <td>NaN</td>\n      <td>NaN</td>\n      <td>104</td>\n      <td>102</td>\n    </tr>\n    <tr>\n      <th>2</th>\n      <td>1871</td>\n      <td>10</td>\n      <td>19</td>\n      <td>N</td>\n      <td>0</td>\n      <td>249</td>\n      <td>1186</td>\n      <td>328</td>\n      <td>26</td>\n      <td>18.0</td>\n      <td>116</td>\n      <td>4.11</td>\n      <td>346</td>\n      <td>223</td>\n      <td>NaN</td>\n      <td>NaN</td>\n      <td>96</td>\n      <td>100</td>\n    </tr>\n    <tr>\n      <th>3</th>\n      <td>1871</td>\n      <td>7</td>\n      <td>12</td>\n      <td>N</td>\n      <td>0</td>\n      <td>137</td>\n      <td>746</td>\n      <td>178</td>\n      <td>33</td>\n      <td>16.0</td>\n      <td>97</td>\n      <td>5.17</td>\n      <td>261</td>\n      <td>163</td>\n      <td>NaN</td>\n      <td>NaN</td>\n      <td>101</td>\n      <td>107</td>\n    </tr>\n    <tr>\n      <th>4</th>\n      <td>1871</td>\n      <td>16</td>\n      <td>17</td>\n      <td>N</td>\n      <td>0</td>\n      <td>302</td>\n      <td>1404</td>\n      <td>403</td>\n      <td>33</td>\n      <td>46.0</td>\n      <td>121</td>\n      <td>3.72</td>\n      <td>373</td>\n      <td>227</td>\n      <td>NaN</td>\n      <td>NaN</td>\n      <td>90</td>\n      <td>88</td>\n    </tr>\n    <tr>\n      <th>5</th>\n      <td>1871</td>\n      <td>21</td>\n      <td>7</td>\n      <td>Y</td>\n      <td>0</td>\n      <td>376</td>\n      <td>1281</td>\n      <td>410</td>\n      <td>46</td>\n      <td>56.0</td>\n      <td>137</td>\n      <td>4.95</td>\n      <td>329</td>\n      <td>194</td>\n      <td>NaN</td>\n      <td>NaN</td>\n      <td>102</td>\n      <td>98</td>\n    </tr>\n    <tr>\n      <th>6</th>\n      <td>1871</td>\n      <td>4</td>\n      <td>21</td>\n      <td>N</td>\n      <td>0</td>\n      <td>231</td>\n      <td>1036</td>\n      <td>274</td>\n      <td>38</td>\n      <td>53.0</td>\n      <td>108</td>\n      <td>4.30</td>\n      <td>315</td>\n      <td>220</td>\n      <td>NaN</td>\n      <td>NaN</td>\n      <td>97</td>\n      <td>99</td>\n    </tr>\n    <tr>\n      <th>7</th>\n      <td>1871</td>\n      <td>13</td>\n      <td>15</td>\n      <td>N</td>\n      <td>0</td>\n      <td>351</td>\n      <td>1248</td>\n      <td>384</td>\n      <td>49</td>\n      <td>62.0</td>\n      <td>153</td>\n      <td>5.51</td>\n      <td>431</td>\n      <td>198</td>\n      <td>NaN</td>\n      <td>NaN</td>\n      <td>101</td>\n      <td>100</td>\n    </tr>\n    <tr>\n      <th>8</th>\n      <td>1871</td>\n      <td>15</td>\n      <td>15</td>\n      <td>N</td>\n      <td>0</td>\n      <td>310</td>\n      <td>1353</td>\n      <td>375</td>\n      <td>48</td>\n      <td>48.0</td>\n      <td>137</td>\n      <td>4.37</td>\n      <td>371</td>\n      <td>217</td>\n      <td>NaN</td>\n      <td>NaN</td>\n      <td>94</td>\n      <td>98</td>\n    </tr>\n    <tr>\n      <th>9</th>\n      <td>1872</td>\n      <td>35</td>\n      <td>19</td>\n      <td>N</td>\n      <td>0</td>\n      <td>617</td>\n      <td>2576</td>\n      <td>747</td>\n      <td>27</td>\n      <td>35.0</td>\n      <td>173</td>\n      <td>3.02</td>\n      <td>566</td>\n      <td>432</td>\n      <td>NaN</td>\n      <td>NaN</td>\n      <td>106</td>\n      <td>102</td>\n    </tr>\n  </tbody>\n</table>\n</div>"
     },
     "metadata": {},
     "execution_count": 22
    }
   ],
   "source": [
    "training_data.head(10)"
   ]
  },
  {
   "cell_type": "code",
   "execution_count": 23,
   "metadata": {},
   "outputs": [],
   "source": [
    "num_attributes=[\"yearID\",\"W\",\"L\",\"R\",\"AB\",\"H\",\"BB\",\"SB\",\"ER\",\"ERA\",\"HA\",\"E\",\"DP\",\"attendance\",\"BPF\",\"PPF\"]\n",
    "cat_attributes = [\"LgWin\",\"WSWin\"]"
   ]
  },
  {
   "cell_type": "code",
   "execution_count": 24,
   "metadata": {},
   "outputs": [],
   "source": [
    "from sklearn.pipeline import Pipeline\n",
    "from sklearn.preprocessing import StandardScaler\n",
    "from sklearn.impute import SimpleImputer\n",
    "from sklearn.compose import ColumnTransformer\n",
    "from sklearn.preprocessing import OneHotEncoder\n",
    "num_pipeline =Pipeline(\n",
    "    [\n",
    "        ('imputer',SimpleImputer(strategy=\"median\")),\n",
    "        ('std_scaler',StandardScaler())\n",
    "    ]\n",
    ")\n",
    "\n",
    "full_pipeline = ColumnTransformer([\n",
    "    (\"nums\",num_pipeline,num_attributes),\n",
    "    (\"cat\",OneHotEncoder(),cat_attributes)\n",
    "])\n",
    "\n"
   ]
  },
  {
   "cell_type": "code",
   "execution_count": 25,
   "metadata": {},
   "outputs": [
    {
     "output_type": "stream",
     "name": "stdout",
     "text": [
      "(2244, 18) (561, 18) (2244,) (561,)\n"
     ]
    }
   ],
   "source": [
    "from sklearn.model_selection import train_test_split\n",
    "X_train,X_test,y_train,y_test = train_test_split(training_data,labels,test_size=0.2,random_state=42)\n",
    "print(X_train.shape,X_test.shape,y_train.shape,y_test.shape)"
   ]
  },
  {
   "cell_type": "code",
   "execution_count": null,
   "metadata": {},
   "outputs": [],
   "source": []
  }
 ]
}