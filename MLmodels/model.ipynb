{
 "metadata": {
  "language_info": {
   "codemirror_mode": {
    "name": "ipython",
    "version": 3
   },
   "file_extension": ".py",
   "mimetype": "text/x-python",
   "name": "python",
   "nbconvert_exporter": "python",
   "pygments_lexer": "ipython3",
   "version": "3.7.1-final"
  },
  "orig_nbformat": 2,
  "kernelspec": {
   "name": "python3",
   "display_name": "Python 3",
   "language": "python"
  }
 },
 "nbformat": 4,
 "nbformat_minor": 2,
 "cells": [
  {
   "cell_type": "code",
   "execution_count": 109,
   "metadata": {},
   "outputs": [],
   "source": [
    "import tensorflow as tf\n",
    "from tensorflow import keras\n",
    "import pandas as pd \n"
   ]
  },
  {
   "cell_type": "code",
   "execution_count": 110,
   "metadata": {},
   "outputs": [],
   "source": [
    "data = pd.read_csv(\"../data/Teams.csv\")\n",
    "training_data = pd.read_csv(\"../data/Teams.csv\")"
   ]
  },
  {
   "cell_type": "code",
   "execution_count": 111,
   "metadata": {},
   "outputs": [],
   "source": [
    "data[\"yearID\"] = pd.to_datetime(data[\"yearID\"],format=\"%Y\").dt.year\n",
    "training_data['yearID'] = pd.to_datetime(training_data['yearID'],format=\"%Y\").dt.year"
   ]
  },
  {
   "cell_type": "code",
   "execution_count": 112,
   "metadata": {},
   "outputs": [],
   "source": [
    "year = 2000\n",
    "data_s = data.loc[data[\"yearID\"]>year]"
   ]
  },
  {
   "cell_type": "code",
   "execution_count": 113,
   "metadata": {},
   "outputs": [],
   "source": [
    "data_s.drop(['lgID','teamID','franchID','divID','teamIDBR','teamIDlahman45','teamIDretro'],axis=1,inplace=True)\n",
    "training_data.drop(['lgID','teamID','franchID','divID','teamIDBR','teamIDlahman45','teamIDretro'],axis=1,inplace=True)"
   ]
  },
  {
   "cell_type": "code",
   "execution_count": 114,
   "metadata": {},
   "outputs": [
    {
     "output_type": "execute_result",
     "data": {
      "text/plain": [
       "Index(['yearID', 'Rank', 'G', 'Ghome', 'W', 'L', 'DivWin', 'WCWin', 'LgWin',\n",
       "       'WSWin', 'R', 'AB', 'H', '2B', '3B', 'HR', 'BB', 'SO', 'SB', 'CS',\n",
       "       'HBP', 'SF', 'RA', 'ER', 'ERA', 'CG', 'SHO', 'SV', 'IPouts', 'HA',\n",
       "       'HRA', 'BBA', 'SOA', 'E', 'DP', 'FP', 'name', 'park', 'attendance',\n",
       "       'BPF', 'PPF'],\n",
       "      dtype='object')"
      ]
     },
     "metadata": {},
     "execution_count": 114
    }
   ],
   "source": [
    "data_s.columns"
   ]
  },
  {
   "cell_type": "code",
   "execution_count": 115,
   "metadata": {},
   "outputs": [],
   "source": [
    "data_s.drop([\"Ghome\",\"DivWin\",\"WCWin\",\"2B\",\"3B\",\"HR\",\"SO\",\"CS\",\"SF\",\"RA\",\"CG\",\"SHO\",\"SV\",\"IPouts\",\"HRA\",\"BBA\",\"SOA\",\"FP\"],axis=1,inplace=True)"
   ]
  },
  {
   "cell_type": "code",
   "execution_count": 116,
   "metadata": {},
   "outputs": [],
   "source": [
    "training_data.drop([\"Ghome\",\"DivWin\",\"WCWin\",\"2B\",\"3B\",\"HR\",\"SO\",\"CS\",\"SF\",\"RA\",\"CG\",\"SHO\",\"SV\",\"IPouts\",\"HRA\",\"BBA\",\"SOA\",\"FP\"],axis=1,inplace=True)"
   ]
  },
  {
   "cell_type": "code",
   "execution_count": 117,
   "metadata": {},
   "outputs": [
    {
     "output_type": "execute_result",
     "data": {
      "text/plain": [
       "59"
      ]
     },
     "metadata": {},
     "execution_count": 117
    }
   ],
   "source": [
    "len(data_s[\"park\"].unique())"
   ]
  },
  {
   "cell_type": "code",
   "execution_count": 118,
   "metadata": {},
   "outputs": [],
   "source": [
    "training_data.drop([\"name\",\"park\"],axis=1,inplace=True)"
   ]
  },
  {
   "cell_type": "code",
   "execution_count": 119,
   "metadata": {},
   "outputs": [],
   "source": [
    "training_data.head(10)\n",
    "training_data[\"WinPer\"] = training_data[\"W\"]/training_data[\"G\"]"
   ]
  },
  {
   "cell_type": "code",
   "execution_count": 120,
   "metadata": {},
   "outputs": [
    {
     "output_type": "display_data",
     "data": {
      "text/plain": "<Figure size 432x288 with 1 Axes>",
      "image/png": "[encoded data removed]"
     },
     "metadata": {
      "needs_background": "light"
     }
    }
   ],
   "source": [
    "import matplotlib.pyplot as plt\n",
    "fig = plt.figure()\n",
    "ax = fig.add_axes([0,0,1,1])\n",
    "for column in training_data:\n",
    "    ax.bar(column,(training_data[column].isnull().sum()/len(training_data))*100,width=0.25)\n",
    "plt.show()   "
   ]
  },
  {
   "cell_type": "code",
   "execution_count": 121,
   "metadata": {},
   "outputs": [
    {
     "output_type": "execute_result",
     "data": {
      "text/plain": [
       "yearID           0\n",
       "Rank             0\n",
       "G                0\n",
       "W                0\n",
       "L                0\n",
       "LgWin           28\n",
       "WSWin          357\n",
       "R                0\n",
       "AB               0\n",
       "H                0\n",
       "BB               0\n",
       "SB             144\n",
       "HBP           2325\n",
       "ER               0\n",
       "ERA              0\n",
       "HA               0\n",
       "E                0\n",
       "DP             317\n",
       "attendance     279\n",
       "BPF              0\n",
       "PPF              0\n",
       "WinPer           0\n",
       "dtype: int64"
      ]
     },
     "metadata": {},
     "execution_count": 121
    }
   ],
   "source": [
    "training_data.isnull().sum()"
   ]
  },
  {
   "cell_type": "code",
   "execution_count": 122,
   "metadata": {},
   "outputs": [],
   "source": [
    "training_data.drop(\"HBP\",axis=1,inplace=True)\n",
    "data_s.drop(\"HBP\",axis=1,inplace=True)"
   ]
  },
  {
   "cell_type": "code",
   "execution_count": 123,
   "metadata": {},
   "outputs": [],
   "source": [
    "#replacing the Nan values with 0\n",
    "training_data[\"LgWin\"] = training_data[\"LgWin\"].fillna(\"N\")\n",
    "training_data[\"WSWin\"] = training_data[\"WSWin\"].fillna(\"N\")\n"
   ]
  },
  {
   "cell_type": "code",
   "execution_count": 124,
   "metadata": {},
   "outputs": [],
   "source": [
    "labels = training_data[\"WinPer\"].copy()"
   ]
  },
  {
   "cell_type": "code",
   "execution_count": 125,
   "metadata": {},
   "outputs": [],
   "source": [
    "training_data.drop(\"WinPer\",axis=1,inplace=True)"
   ]
  },
  {
   "cell_type": "code",
   "execution_count": 186,
   "metadata": {},
   "outputs": [],
   "source": [
    "data_s.drop(\"park\",axis=1,inplace=True)"
   ]
  },
  {
   "cell_type": "code",
   "execution_count": 126,
   "metadata": {},
   "outputs": [
    {
     "output_type": "execute_result",
     "data": {
      "text/plain": [
       "   yearID  Rank   G   W   L LgWin WSWin    R    AB    H  BB    SB   ER   ERA  \\\n",
       "0    1871     3  31  20  10     N     N  401  1372  426  60  73.0  109  3.55   \n",
       "1    1871     2  28  19   9     N     N  302  1196  323  60  69.0   77  2.76   \n",
       "2    1871     8  29  10  19     N     N  249  1186  328  26  18.0  116  4.11   \n",
       "3    1871     7  19   7  12     N     N  137   746  178  33  16.0   97  5.17   \n",
       "4    1871     5  33  16  17     N     N  302  1404  403  33  46.0  121  3.72   \n",
       "5    1871     1  28  21   7     Y     N  376  1281  410  46  56.0  137  4.95   \n",
       "6    1871     9  25   4  21     N     N  231  1036  274  38  53.0  108  4.30   \n",
       "7    1871     6  29  13  15     N     N  351  1248  384  49  62.0  153  5.51   \n",
       "8    1871     4  32  15  15     N     N  310  1353  375  48  48.0  137  4.37   \n",
       "9    1872     2  58  35  19     N     N  617  2576  747  27  35.0  173  3.02   \n",
       "\n",
       "    HA    E  DP  attendance  BPF  PPF  \n",
       "0  367  225 NaN         NaN  103   98  \n",
       "1  308  218 NaN         NaN  104  102  \n",
       "2  346  223 NaN         NaN   96  100  \n",
       "3  261  163 NaN         NaN  101  107  \n",
       "4  373  227 NaN         NaN   90   88  \n",
       "5  329  194 NaN         NaN  102   98  \n",
       "6  315  220 NaN         NaN   97   99  \n",
       "7  431  198 NaN         NaN  101  100  \n",
       "8  371  217 NaN         NaN   94   98  \n",
       "9  566  432 NaN         NaN  106  102  "
      ],
      "text/html": "<div>\n<style scoped>\n    .dataframe tbody tr th:only-of-type {\n        vertical-align: middle;\n    }\n\n    .dataframe tbody tr th {\n        vertical-align: top;\n    }\n\n    .dataframe thead th {\n        text-align: right;\n    }\n</style>\n<table border=\"1\" class=\"dataframe\">\n  <thead>\n    <tr style=\"text-align: right;\">\n      <th></th>\n      <th>yearID</th>\n      <th>Rank</th>\n      <th>G</th>\n      <th>W</th>\n      <th>L</th>\n      <th>LgWin</th>\n      <th>WSWin</th>\n      <th>R</th>\n      <th>AB</th>\n      <th>H</th>\n      <th>BB</th>\n      <th>SB</th>\n      <th>ER</th>\n      <th>ERA</th>\n      <th>HA</th>\n      <th>E</th>\n      <th>DP</th>\n      <th>attendance</th>\n      <th>BPF</th>\n      <th>PPF</th>\n    </tr>\n  </thead>\n  <tbody>\n    <tr>\n      <th>0</th>\n      <td>1871</td>\n      <td>3</td>\n      <td>31</td>\n      <td>20</td>\n      <td>10</td>\n      <td>N</td>\n      <td>N</td>\n      <td>401</td>\n      <td>1372</td>\n      <td>426</td>\n      <td>60</td>\n      <td>73.0</td>\n      <td>109</td>\n      <td>3.55</td>\n      <td>367</td>\n      <td>225</td>\n      <td>NaN</td>\n      <td>NaN</td>\n      <td>103</td>\n      <td>98</td>\n    </tr>\n    <tr>\n      <th>1</th>\n      <td>1871</td>\n      <td>2</td>\n      <td>28</td>\n      <td>19</td>\n      <td>9</td>\n      <td>N</td>\n      <td>N</td>\n      <td>302</td>\n      <td>1196</td>\n      <td>323</td>\n      <td>60</td>\n      <td>69.0</td>\n      <td>77</td>\n      <td>2.76</td>\n      <td>308</td>\n      <td>218</td>\n      <td>NaN</td>\n      <td>NaN</td>\n      <td>104</td>\n      <td>102</td>\n    </tr>\n    <tr>\n      <th>2</th>\n      <td>1871</td>\n      <td>8</td>\n      <td>29</td>\n      <td>10</td>\n      <td>19</td>\n      <td>N</td>\n      <td>N</td>\n      <td>249</td>\n      <td>1186</td>\n      <td>328</td>\n      <td>26</td>\n      <td>18.0</td>\n      <td>116</td>\n      <td>4.11</td>\n      <td>346</td>\n      <td>223</td>\n      <td>NaN</td>\n      <td>NaN</td>\n      <td>96</td>\n      <td>100</td>\n    </tr>\n    <tr>\n      <th>3</th>\n      <td>1871</td>\n      <td>7</td>\n      <td>19</td>\n      <td>7</td>\n      <td>12</td>\n      <td>N</td>\n      <td>N</td>\n      <td>137</td>\n      <td>746</td>\n      <td>178</td>\n      <td>33</td>\n      <td>16.0</td>\n      <td>97</td>\n      <td>5.17</td>\n      <td>261</td>\n      <td>163</td>\n      <td>NaN</td>\n      <td>NaN</td>\n      <td>101</td>\n      <td>107</td>\n    </tr>\n    <tr>\n      <th>4</th>\n      <td>1871</td>\n      <td>5</td>\n      <td>33</td>\n      <td>16</td>\n      <td>17</td>\n      <td>N</td>\n      <td>N</td>\n      <td>302</td>\n      <td>1404</td>\n      <td>403</td>\n      <td>33</td>\n      <td>46.0</td>\n      <td>121</td>\n      <td>3.72</td>\n      <td>373</td>\n      <td>227</td>\n      <td>NaN</td>\n      <td>NaN</td>\n      <td>90</td>\n      <td>88</td>\n    </tr>\n    <tr>\n      <th>5</th>\n      <td>1871</td>\n      <td>1</td>\n      <td>28</td>\n      <td>21</td>\n      <td>7</td>\n      <td>Y</td>\n      <td>N</td>\n      <td>376</td>\n      <td>1281</td>\n      <td>410</td>\n      <td>46</td>\n      <td>56.0</td>\n      <td>137</td>\n      <td>4.95</td>\n      <td>329</td>\n      <td>194</td>\n      <td>NaN</td>\n      <td>NaN</td>\n      <td>102</td>\n      <td>98</td>\n    </tr>\n    <tr>\n      <th>6</th>\n      <td>1871</td>\n      <td>9</td>\n      <td>25</td>\n      <td>4</td>\n      <td>21</td>\n      <td>N</td>\n      <td>N</td>\n      <td>231</td>\n      <td>1036</td>\n      <td>274</td>\n      <td>38</td>\n      <td>53.0</td>\n      <td>108</td>\n      <td>4.30</td>\n      <td>315</td>\n      <td>220</td>\n      <td>NaN</td>\n      <td>NaN</td>\n      <td>97</td>\n      <td>99</td>\n    </tr>\n    <tr>\n      <th>7</th>\n      <td>1871</td>\n      <td>6</td>\n      <td>29</td>\n      <td>13</td>\n      <td>15</td>\n      <td>N</td>\n      <td>N</td>\n      <td>351</td>\n      <td>1248</td>\n      <td>384</td>\n      <td>49</td>\n      <td>62.0</td>\n      <td>153</td>\n      <td>5.51</td>\n      <td>431</td>\n      <td>198</td>\n      <td>NaN</td>\n      <td>NaN</td>\n      <td>101</td>\n      <td>100</td>\n    </tr>\n    <tr>\n      <th>8</th>\n      <td>1871</td>\n      <td>4</td>\n      <td>32</td>\n      <td>15</td>\n      <td>15</td>\n      <td>N</td>\n      <td>N</td>\n      <td>310</td>\n      <td>1353</td>\n      <td>375</td>\n      <td>48</td>\n      <td>48.0</td>\n      <td>137</td>\n      <td>4.37</td>\n      <td>371</td>\n      <td>217</td>\n      <td>NaN</td>\n      <td>NaN</td>\n      <td>94</td>\n      <td>98</td>\n    </tr>\n    <tr>\n      <th>9</th>\n      <td>1872</td>\n      <td>2</td>\n      <td>58</td>\n      <td>35</td>\n      <td>19</td>\n      <td>N</td>\n      <td>N</td>\n      <td>617</td>\n      <td>2576</td>\n      <td>747</td>\n      <td>27</td>\n      <td>35.0</td>\n      <td>173</td>\n      <td>3.02</td>\n      <td>566</td>\n      <td>432</td>\n      <td>NaN</td>\n      <td>NaN</td>\n      <td>106</td>\n      <td>102</td>\n    </tr>\n  </tbody>\n</table>\n</div>"
     },
     "metadata": {},
     "execution_count": 126
    }
   ],
   "source": [
    "training_data.head(10)"
   ]
  },
  {
   "cell_type": "code",
   "execution_count": 134,
   "metadata": {},
   "outputs": [],
   "source": [
    "training_data.drop(\"yearID\",axis=1,inplace=True)"
   ]
  },
  {
   "cell_type": "code",
   "execution_count": 135,
   "metadata": {},
   "outputs": [],
   "source": [
    "num_attributes=[\"Rank\",\"G\",\"W\",\"L\",\"R\",\"AB\",\"H\",\"BB\",\"SB\",\"ER\",\"ERA\",\"HA\",\"E\",\"DP\",\"attendance\",\"BPF\",\"PPF\"]\n",
    "cat_attributes = [\"LgWin\",\"WSWin\"]"
   ]
  },
  {
   "cell_type": "code",
   "execution_count": 136,
   "metadata": {},
   "outputs": [],
   "source": [
    "from sklearn.pipeline import Pipeline\n",
    "from sklearn.preprocessing import StandardScaler\n",
    "from sklearn.impute import SimpleImputer\n",
    "from sklearn.compose import ColumnTransformer\n",
    "from sklearn.preprocessing import OneHotEncoder\n",
    "num_pipeline =Pipeline(\n",
    "    [\n",
    "        ('imputer',SimpleImputer(strategy=\"median\")),\n",
    "        ('std_scaler',StandardScaler())\n",
    "    ]\n",
    ")\n",
    "\n",
    "full_pipeline = ColumnTransformer([\n",
    "    (\"nums\",num_pipeline,num_attributes),\n",
    "    (\"cat\",OneHotEncoder(),cat_attributes)\n",
    "])\n",
    "\n"
   ]
  },
  {
   "cell_type": "code",
   "execution_count": 137,
   "metadata": {},
   "outputs": [
    {
     "output_type": "stream",
     "name": "stdout",
     "text": [
      "(2244, 19) (561, 19) (2244,) (561,)\n"
     ]
    }
   ],
   "source": [
    "from sklearn.model_selection import train_test_split\n",
    "X_train,X_test,y_train,y_test = train_test_split(training_data,labels,test_size=0.2,random_state=42)\n",
    "print(X_train.shape,X_test.shape,y_train.shape,y_test.shape)"
   ]
  },
  {
   "cell_type": "code",
   "execution_count": 138,
   "metadata": {},
   "outputs": [],
   "source": [
    "Xtraining_prepared = full_pipeline.fit_transform(X_train)\n",
    "Xtest_prepared = full_pipeline.fit_transform(X_test)\n",
    "training_prepared = full_pipeline.fit_transform(training_data)"
   ]
  },
  {
   "cell_type": "code",
   "execution_count": 139,
   "metadata": {},
   "outputs": [
    {
     "output_type": "execute_result",
     "data": {
      "text/plain": [
       "(2805,)"
      ]
     },
     "metadata": {},
     "execution_count": 139
    }
   ],
   "source": [
    "training_prepared.shape\n",
    "labels.shape"
   ]
  },
  {
   "cell_type": "code",
   "execution_count": 140,
   "metadata": {},
   "outputs": [],
   "source": [
    "from sklearn.ensemble import RandomForestRegressor\n",
    "from sklearn.model_selection import cross_val_score\n",
    "# from sklearn.ensemble import RandomForestClassifier\n",
    "from sklearn.svm import SVC\n",
    "from sklearn.metrics import accuracy_score\n",
    "from sklearn.metrics import confusion_matrix\n",
    "from sklearn.model_selection import cross_val_predict\n",
    "import seaborn as sns"
   ]
  },
  {
   "cell_type": "code",
   "execution_count": 143,
   "metadata": {},
   "outputs": [
    {
     "output_type": "execute_result",
     "data": {
      "text/plain": [
       "RandomForestRegressor(min_samples_split=10, n_estimators=700, n_jobs=-1,\n",
       "                      oob_score=True, random_state=1)"
      ]
     },
     "metadata": {},
     "execution_count": 143
    }
   ],
   "source": [
    "#the Random Forest Model\n",
    "rfc_model = RandomForestRegressor(criterion='mse', n_estimators=700,\n",
    "                             min_samples_split=10,min_samples_leaf=1,\n",
    "                             max_features='auto',oob_score=True,\n",
    "                             random_state=1,n_jobs=-1)\n",
    "rfc_model.fit(Xtraining_prepared,y_train)\n",
    "# pred = rfc_model.predict(Xtest_prepared)\n",
    "# print(\"-----The accuracy of Random Forest  model----- \")\n",
    "# print(\"The accuracy: \",round(accuracy_score(pred,y_test)*100,2))\n",
    "\n"
   ]
  },
  {
   "cell_type": "code",
   "execution_count": 146,
   "metadata": {},
   "outputs": [],
   "source": [
    "pred =rfc_model.predict(Xtest_prepared)"
   ]
  },
  {
   "cell_type": "code",
   "execution_count": 144,
   "metadata": {},
   "outputs": [
    {
     "output_type": "stream",
     "name": "stdout",
     "text": [
      "The cross validated score is: -8.63\n"
     ]
    }
   ],
   "source": [
    "rfc_score = cross_val_score(rfc_model,training_prepared,labels,scoring=\"max_error\",cv=10)\n",
    "print(\"The cross validated score is:\", round(rfc_score.mean()*100,2))"
   ]
  },
  {
   "cell_type": "code",
   "execution_count": 174,
   "metadata": {},
   "outputs": [],
   "source": [
    "model = keras.models.Sequential([\n",
    "    keras.layers.Dense(150,kernel_initializer=\"he_normal\",activation=\"elu\"),\n",
    "    keras.layers.Dropout(0.5),\n",
    "    keras.layers.Dense(60,kernel_initializer=\"he_normal\",activation=\"elu\"),\n",
    "    keras.layers.Dense(10,kernel_initializer=\"he_normal\",activation=\"elu\"),\n",
    "    keras.layers.Dropout(0.5),\n",
    "    keras.layers.Dense(1),\n",
    "\n",
    "])\n",
    "optimizer = keras.optimizers.Adam(learning_rate=0.001)\n",
    "model.compile(loss=\"mse\",optimizer=optimizer)\n"
   ]
  },
  {
   "cell_type": "code",
   "execution_count": 175,
   "metadata": {},
   "outputs": [
    {
     "output_type": "stream",
     "name": "stdout",
     "text": [
      "Epoch 1/25\n",
      "187/187 [==============================] - 1s 3ms/step - loss: 6.0675 - val_loss: 0.0496\n",
      "Epoch 2/25\n",
      "187/187 [==============================] - 0s 2ms/step - loss: 0.8689 - val_loss: 0.0415\n",
      "Epoch 3/25\n",
      "187/187 [==============================] - 0s 2ms/step - loss: 0.7037 - val_loss: 0.0188\n",
      "Epoch 4/25\n",
      "187/187 [==============================] - 0s 2ms/step - loss: 0.4914 - val_loss: 0.0108\n",
      "Epoch 5/25\n",
      "187/187 [==============================] - 0s 2ms/step - loss: 0.3864 - val_loss: 0.0138\n",
      "Epoch 6/25\n",
      "187/187 [==============================] - 0s 2ms/step - loss: 0.2835 - val_loss: 0.0140\n",
      "Epoch 7/25\n",
      "187/187 [==============================] - 0s 2ms/step - loss: 0.2209 - val_loss: 0.0126\n",
      "Epoch 8/25\n",
      "187/187 [==============================] - 0s 2ms/step - loss: 0.1542 - val_loss: 0.0113\n",
      "Epoch 9/25\n",
      "187/187 [==============================] - 0s 2ms/step - loss: 0.1369 - val_loss: 0.0129\n",
      "Epoch 10/25\n",
      "187/187 [==============================] - 0s 2ms/step - loss: 0.0951 - val_loss: 0.0092\n",
      "Epoch 11/25\n",
      "187/187 [==============================] - 0s 2ms/step - loss: 0.0802 - val_loss: 0.0106\n",
      "Epoch 12/25\n",
      "187/187 [==============================] - 0s 2ms/step - loss: 0.0773 - val_loss: 0.0066\n",
      "Epoch 13/25\n",
      "187/187 [==============================] - 0s 2ms/step - loss: 0.0643 - val_loss: 0.0053\n",
      "Epoch 14/25\n",
      "187/187 [==============================] - 0s 2ms/step - loss: 0.0516 - val_loss: 0.0059\n",
      "Epoch 15/25\n",
      "187/187 [==============================] - 0s 2ms/step - loss: 0.0438 - val_loss: 0.0048\n",
      "Epoch 16/25\n",
      "187/187 [==============================] - 0s 2ms/step - loss: 0.0322 - val_loss: 0.0038\n",
      "Epoch 17/25\n",
      "187/187 [==============================] - 0s 2ms/step - loss: 0.0319 - val_loss: 0.0036\n",
      "Epoch 18/25\n",
      "187/187 [==============================] - 0s 3ms/step - loss: 0.0236 - val_loss: 0.0034\n",
      "Epoch 19/25\n",
      "187/187 [==============================] - 0s 2ms/step - loss: 0.0205 - val_loss: 0.0042\n",
      "Epoch 20/25\n",
      "187/187 [==============================] - 0s 2ms/step - loss: 0.0185 - val_loss: 0.0030\n",
      "Epoch 21/25\n",
      "187/187 [==============================] - 0s 3ms/step - loss: 0.0156 - val_loss: 0.0031\n",
      "Epoch 22/25\n",
      "187/187 [==============================] - 0s 2ms/step - loss: 0.0153 - val_loss: 0.0021\n",
      "Epoch 23/25\n",
      "187/187 [==============================] - 0s 2ms/step - loss: 0.0123 - val_loss: 0.0022\n",
      "Epoch 24/25\n",
      "187/187 [==============================] - 0s 2ms/step - loss: 0.0105 - val_loss: 0.0024\n",
      "Epoch 25/25\n",
      "187/187 [==============================] - 0s 2ms/step - loss: 0.0092 - val_loss: 0.0018\n"
     ]
    },
    {
     "output_type": "execute_result",
     "data": {
      "text/plain": [
       "<tensorflow.python.keras.callbacks.History at 0x1f68d0cd400>"
      ]
     },
     "metadata": {},
     "execution_count": 175
    }
   ],
   "source": [
    "model.fit(Xtraining_prepared,y_train,batch_size=12,epochs=25,validation_data =(Xtest_prepared,y_test))"
   ]
  },
  {
   "cell_type": "code",
   "execution_count": 170,
   "metadata": {},
   "outputs": [
    {
     "output_type": "execute_result",
     "data": {
      "text/plain": [
       "dict_keys(['loss', 'val_loss'])"
      ]
     },
     "metadata": {},
     "execution_count": 170
    }
   ],
   "source": [
    "model.history.history.keys()"
   ]
  },
  {
   "cell_type": "code",
   "execution_count": 176,
   "metadata": {},
   "outputs": [
    {
     "output_type": "display_data",
     "data": {
      "text/plain": "<Figure size 432x288 with 1 Axes>",
      "image/png": "[encoded data removed]"
     },
     "metadata": {
      "needs_background": "light"
     }
    }
   ],
   "source": [
    "plt.plot(model.history.history['loss'])\n",
    "plt.plot(model.history.history['val_loss'])\n",
    "plt.title('model loss')\n",
    "plt.ylabel('loss')\n",
    "plt.xlabel('epoch')\n",
    "plt.legend(['train', 'val'], loc='upper left')\n",
    "plt.show()"
   ]
  },
  {
   "cell_type": "code",
   "execution_count": 178,
   "metadata": {},
   "outputs": [
    {
     "output_type": "execute_result",
     "data": {
      "text/plain": [
       "array([[0.51808333],\n",
       "       [0.45906955],\n",
       "       [0.47768834],\n",
       "       [0.51420933],\n",
       "       [0.62789357]], dtype=float32)"
      ]
     },
     "metadata": {},
     "execution_count": 178
    }
   ],
   "source": [
    "model.predict(Xtest_prepared)[:5]"
   ]
  },
  {
   "cell_type": "code",
   "execution_count": 179,
   "metadata": {},
   "outputs": [
    {
     "output_type": "execute_result",
     "data": {
      "text/plain": [
       "1091    0.477707\n",
       "1041    0.397436\n",
       "1521    0.419753\n",
       "2504    0.500000\n",
       "1518    0.672840\n",
       "Name: WinPer, dtype: float64"
      ]
     },
     "metadata": {},
     "execution_count": 179
    }
   ],
   "source": [
    "y_test[:5]"
   ]
  },
  {
   "cell_type": "code",
   "execution_count": 180,
   "metadata": {},
   "outputs": [
    {
     "output_type": "stream",
     "name": "stdout",
     "text": [
      "Model: \"sequential_2\"\n_________________________________________________________________\nLayer (type)                 Output Shape              Param #   \n=================================================================\ndense_8 (Dense)              (None, 150)               3300      \n_________________________________________________________________\ndropout_4 (Dropout)          (None, 150)               0         \n_________________________________________________________________\ndense_9 (Dense)              (None, 60)                9060      \n_________________________________________________________________\ndense_10 (Dense)             (None, 10)                610       \n_________________________________________________________________\ndropout_5 (Dropout)          (None, 10)                0         \n_________________________________________________________________\ndense_11 (Dense)             (None, 1)                 11        \n=================================================================\nTotal params: 12,981\nTrainable params: 12,981\nNon-trainable params: 0\n_________________________________________________________________\n"
     ]
    }
   ],
   "source": [
    "model.summary()"
   ]
  },
  {
   "cell_type": "code",
   "execution_count": 184,
   "metadata": {},
   "outputs": [
    {
     "output_type": "stream",
     "name": "stderr",
     "text": [
      "C:\\Users\\HP\\Anaconda3\\lib\\site-packages\\tensorflowjs\\converters\\keras_h5_conversion.py:123: H5pyDeprecationWarning: The default file mode will change to 'r' (read-only) in h5py 3.0. To suppress this warning, pass the mode you need to h5py.File(), or set the global default h5.get_config().default_file_mode, or set the environment variable H5PY_DEFAULT_READONLY=1. Available modes are: 'r', 'r+', 'w', 'w-'/'x', 'a'. See the docs for details.\n  return h5py.File(h5file)\n"
     ]
    }
   ],
   "source": [
    "import tensorflowjs as tfjs\n",
    "tfjs.converters.save_keras_model(model,\"jsmodel\")\n",
    "model.save(\"games.h5\")\n"
   ]
  },
  {
   "cell_type": "code",
   "execution_count": 232,
   "metadata": {},
   "outputs": [],
   "source": [
    "data_s =pd.read_csv(\"data.csv\")\n",
    "name = data_s[\"name\"]\n",
    "year = data_s[\"yearID\"]\n",
    "data_s.drop([\"name\",\"yearID\"],axis=1,inplace=True)"
   ]
  },
  {
   "cell_type": "code",
   "execution_count": 233,
   "metadata": {},
   "outputs": [
    {
     "output_type": "execute_result",
     "data": {
      "text/plain": [
       "array([-1.38902971,  0.13206764,  0.95871068, -0.9552454 ,  1.03848264,\n",
       "        0.68727549,  0.61229115,  1.04115698, -0.77831043, -0.58979428,\n",
       "       -0.63295839, -1.05223718, -1.06860244, -0.04934183,  0.40677504,\n",
       "        1.53907067,  1.35447717,  0.        ,  1.        ,  0.        ,\n",
       "        1.        ])"
      ]
     },
     "metadata": {},
     "execution_count": 233
    }
   ],
   "source": [
    "values = full_pipeline.fit_transform(data_s)\n",
    "values[1]"
   ]
  },
  {
   "cell_type": "code",
   "execution_count": 246,
   "metadata": {},
   "outputs": [
    {
     "output_type": "execute_result",
     "data": {
      "text/plain": [
       "   yearID                  name\n",
       "0    2001        Anaheim Angels\n",
       "1    2001  Arizona Diamondbacks\n",
       "2    2001        Atlanta Braves\n",
       "3    2001     Baltimore Orioles\n",
       "4    2001        Boston Red Sox\n",
       "5    2001     Chicago White Sox\n",
       "6    2001          Chicago Cubs\n",
       "7    2001       Cincinnati Reds\n",
       "8    2001     Cleveland Indians\n",
       "9    2001      Colorado Rockies"
      ],
      "text/html": "<div>\n<style scoped>\n    .dataframe tbody tr th:only-of-type {\n        vertical-align: middle;\n    }\n\n    .dataframe tbody tr th {\n        vertical-align: top;\n    }\n\n    .dataframe thead th {\n        text-align: right;\n    }\n</style>\n<table border=\"1\" class=\"dataframe\">\n  <thead>\n    <tr style=\"text-align: right;\">\n      <th></th>\n      <th>yearID</th>\n      <th>name</th>\n    </tr>\n  </thead>\n  <tbody>\n    <tr>\n      <th>0</th>\n      <td>2001</td>\n      <td>Anaheim Angels</td>\n    </tr>\n    <tr>\n      <th>1</th>\n      <td>2001</td>\n      <td>Arizona Diamondbacks</td>\n    </tr>\n    <tr>\n      <th>2</th>\n      <td>2001</td>\n      <td>Atlanta Braves</td>\n    </tr>\n    <tr>\n      <th>3</th>\n      <td>2001</td>\n      <td>Baltimore Orioles</td>\n    </tr>\n    <tr>\n      <th>4</th>\n      <td>2001</td>\n      <td>Boston Red Sox</td>\n    </tr>\n    <tr>\n      <th>5</th>\n      <td>2001</td>\n      <td>Chicago White Sox</td>\n    </tr>\n    <tr>\n      <th>6</th>\n      <td>2001</td>\n      <td>Chicago Cubs</td>\n    </tr>\n    <tr>\n      <th>7</th>\n      <td>2001</td>\n      <td>Cincinnati Reds</td>\n    </tr>\n    <tr>\n      <th>8</th>\n      <td>2001</td>\n      <td>Cleveland Indians</td>\n    </tr>\n    <tr>\n      <th>9</th>\n      <td>2001</td>\n      <td>Colorado Rockies</td>\n    </tr>\n  </tbody>\n</table>\n</div>"
     },
     "metadata": {},
     "execution_count": 246
    }
   ],
   "source": [
    "newdf = pd.concat([year,name],axis=1)\n",
    "newdf.head(10)"
   ]
  },
  {
   "cell_type": "code",
   "execution_count": 247,
   "metadata": {},
   "outputs": [],
   "source": [
    "data_s = pd.DataFrame(values,columns=['Rank','G','LgWin','WSWin','R','AB','H','BB','SB','ER','ERA','HA','E','DP','attendance','BPF','PPF','W1','W2','L1','L2'])\n"
   ]
  },
  {
   "cell_type": "code",
   "execution_count": 248,
   "metadata": {},
   "outputs": [
    {
     "output_type": "execute_result",
     "data": {
      "text/plain": [
       "       Rank         G     LgWin     WSWin         R        AB         H  \\\n",
       "0 -0.015264  0.132068 -0.519052  0.524930 -0.519528  0.128217  0.033004   \n",
       "1 -1.389030  0.132068  0.958711 -0.955245  1.038483  0.687275  0.612291   \n",
       "2 -1.389030  0.132068  0.611002 -0.606969 -0.053351 -0.545195 -0.151874   \n",
       "3  0.671619  0.132068 -1.562179  1.482691 -0.568599 -0.875548 -1.051618   \n",
       "4 -0.702147 -3.169623  0.089438 -0.171623  0.474164  0.814334  0.599966   \n",
       "5 -0.015264  0.132068  0.176366 -0.171623  0.793127 -0.977196  0.230208   \n",
       "6 -0.015264  0.132068  0.611002 -0.606969  0.535503 -1.714137 -0.435355   \n",
       "7  1.358502  0.132068 -1.301397  1.308553  0.020255  0.534805  0.242534   \n",
       "8 -1.389030  0.132068  0.871783 -0.868176  2.007639  0.750805  1.413433   \n",
       "9  1.358502  0.132068 -0.692907  0.699069  2.326601  1.894335  2.695259   \n",
       "\n",
       "         BB        SB        ER ...         HA         E        DP  \\\n",
       "0 -0.335147  0.720861 -0.044097 ...   0.087507  0.127438 -0.398093   \n",
       "1  1.041157 -0.778310 -0.589794 ...  -1.052237 -1.068602 -0.049342   \n",
       "2 -0.349946 -0.311902 -1.197503 ...  -0.926865  0.127438 -0.921220   \n",
       "3 -0.039168  1.287214  0.861265 ...   0.680174  1.512326 -0.688719   \n",
       "4  0.049626 -1.611183 -0.093706 ...  -0.368391  0.756933 -1.153720   \n",
       "5  0.049626  0.954065  0.625623 ...   0.235674  1.071680  0.008783   \n",
       "6  0.893167 -0.911570 -0.391359 ...  -0.995250  0.505135 -2.083723   \n",
       "7 -0.719921  0.287767  1.121712 ...   1.455200  2.330670 -0.746844   \n",
       "8  0.893167 -0.511791  0.886069 ...   0.771354  0.379236 -0.688719   \n",
       "9 -0.083565  1.253899  2.064280 ...   0.885328 -0.313209  1.055037   \n",
       "\n",
       "   attendance       BPF       PPF   W1   W2   L1   L2  \n",
       "0   -0.671535  0.162950  0.160521  1.0  0.0  1.0  0.0  \n",
       "1    0.406775  1.539071  1.354477  0.0  1.0  0.0  1.0  \n",
       "2    0.534435  0.556127  0.359514  1.0  0.0  1.0  0.0  \n",
       "3    0.932185 -1.016582 -0.834443  1.0  0.0  1.0  0.0  \n",
       "4    0.243873  0.359539  0.160521  1.0  0.0  1.0  0.0  \n",
       "5   -1.015681  0.752716  0.558506  1.0  0.0  1.0  0.0  \n",
       "6    0.469835 -1.016582 -1.033436  1.0  0.0  1.0  0.0  \n",
       "7   -0.849162  0.949305  0.956492  1.0  0.0  1.0  0.0  \n",
       "8    1.050467 -0.033639 -0.038472  1.0  0.0  1.0  0.0  \n",
       "9    1.037709  4.291312  4.339368  1.0  0.0  1.0  0.0  \n",
       "\n",
       "[10 rows x 21 columns]"
      ],
      "text/html": "<div>\n<style scoped>\n    .dataframe tbody tr th:only-of-type {\n        vertical-align: middle;\n    }\n\n    .dataframe tbody tr th {\n        vertical-align: top;\n    }\n\n    .dataframe thead th {\n        text-align: right;\n    }\n</style>\n<table border=\"1\" class=\"dataframe\">\n  <thead>\n    <tr style=\"text-align: right;\">\n      <th></th>\n      <th>Rank</th>\n      <th>G</th>\n      <th>LgWin</th>\n      <th>WSWin</th>\n      <th>R</th>\n      <th>AB</th>\n      <th>H</th>\n      <th>BB</th>\n      <th>SB</th>\n      <th>ER</th>\n      <th>...</th>\n      <th>HA</th>\n      <th>E</th>\n      <th>DP</th>\n      <th>attendance</th>\n      <th>BPF</th>\n      <th>PPF</th>\n      <th>W1</th>\n      <th>W2</th>\n      <th>L1</th>\n      <th>L2</th>\n    </tr>\n  </thead>\n  <tbody>\n    <tr>\n      <th>0</th>\n      <td>-0.015264</td>\n      <td>0.132068</td>\n      <td>-0.519052</td>\n      <td>0.524930</td>\n      <td>-0.519528</td>\n      <td>0.128217</td>\n      <td>0.033004</td>\n      <td>-0.335147</td>\n      <td>0.720861</td>\n      <td>-0.044097</td>\n      <td>...</td>\n      <td>0.087507</td>\n      <td>0.127438</td>\n      <td>-0.398093</td>\n      <td>-0.671535</td>\n      <td>0.162950</td>\n      <td>0.160521</td>\n      <td>1.0</td>\n      <td>0.0</td>\n      <td>1.0</td>\n      <td>0.0</td>\n    </tr>\n    <tr>\n      <th>1</th>\n      <td>-1.389030</td>\n      <td>0.132068</td>\n      <td>0.958711</td>\n      <td>-0.955245</td>\n      <td>1.038483</td>\n      <td>0.687275</td>\n      <td>0.612291</td>\n      <td>1.041157</td>\n      <td>-0.778310</td>\n      <td>-0.589794</td>\n      <td>...</td>\n      <td>-1.052237</td>\n      <td>-1.068602</td>\n      <td>-0.049342</td>\n      <td>0.406775</td>\n      <td>1.539071</td>\n      <td>1.354477</td>\n      <td>0.0</td>\n      <td>1.0</td>\n      <td>0.0</td>\n      <td>1.0</td>\n    </tr>\n    <tr>\n      <th>2</th>\n      <td>-1.389030</td>\n      <td>0.132068</td>\n      <td>0.611002</td>\n      <td>-0.606969</td>\n      <td>-0.053351</td>\n      <td>-0.545195</td>\n      <td>-0.151874</td>\n      <td>-0.349946</td>\n      <td>-0.311902</td>\n      <td>-1.197503</td>\n      <td>...</td>\n      <td>-0.926865</td>\n      <td>0.127438</td>\n      <td>-0.921220</td>\n      <td>0.534435</td>\n      <td>0.556127</td>\n      <td>0.359514</td>\n      <td>1.0</td>\n      <td>0.0</td>\n      <td>1.0</td>\n      <td>0.0</td>\n    </tr>\n    <tr>\n      <th>3</th>\n      <td>0.671619</td>\n      <td>0.132068</td>\n      <td>-1.562179</td>\n      <td>1.482691</td>\n      <td>-0.568599</td>\n      <td>-0.875548</td>\n      <td>-1.051618</td>\n      <td>-0.039168</td>\n      <td>1.287214</td>\n      <td>0.861265</td>\n      <td>...</td>\n      <td>0.680174</td>\n      <td>1.512326</td>\n      <td>-0.688719</td>\n      <td>0.932185</td>\n      <td>-1.016582</td>\n      <td>-0.834443</td>\n      <td>1.0</td>\n      <td>0.0</td>\n      <td>1.0</td>\n      <td>0.0</td>\n    </tr>\n    <tr>\n      <th>4</th>\n      <td>-0.702147</td>\n      <td>-3.169623</td>\n      <td>0.089438</td>\n      <td>-0.171623</td>\n      <td>0.474164</td>\n      <td>0.814334</td>\n      <td>0.599966</td>\n      <td>0.049626</td>\n      <td>-1.611183</td>\n      <td>-0.093706</td>\n      <td>...</td>\n      <td>-0.368391</td>\n      <td>0.756933</td>\n      <td>-1.153720</td>\n      <td>0.243873</td>\n      <td>0.359539</td>\n      <td>0.160521</td>\n      <td>1.0</td>\n      <td>0.0</td>\n      <td>1.0</td>\n      <td>0.0</td>\n    </tr>\n    <tr>\n      <th>5</th>\n      <td>-0.015264</td>\n      <td>0.132068</td>\n      <td>0.176366</td>\n      <td>-0.171623</td>\n      <td>0.793127</td>\n      <td>-0.977196</td>\n      <td>0.230208</td>\n      <td>0.049626</td>\n      <td>0.954065</td>\n      <td>0.625623</td>\n      <td>...</td>\n      <td>0.235674</td>\n      <td>1.071680</td>\n      <td>0.008783</td>\n      <td>-1.015681</td>\n      <td>0.752716</td>\n      <td>0.558506</td>\n      <td>1.0</td>\n      <td>0.0</td>\n      <td>1.0</td>\n      <td>0.0</td>\n    </tr>\n    <tr>\n      <th>6</th>\n      <td>-0.015264</td>\n      <td>0.132068</td>\n      <td>0.611002</td>\n      <td>-0.606969</td>\n      <td>0.535503</td>\n      <td>-1.714137</td>\n      <td>-0.435355</td>\n      <td>0.893167</td>\n      <td>-0.911570</td>\n      <td>-0.391359</td>\n      <td>...</td>\n      <td>-0.995250</td>\n      <td>0.505135</td>\n      <td>-2.083723</td>\n      <td>0.469835</td>\n      <td>-1.016582</td>\n      <td>-1.033436</td>\n      <td>1.0</td>\n      <td>0.0</td>\n      <td>1.0</td>\n      <td>0.0</td>\n    </tr>\n    <tr>\n      <th>7</th>\n      <td>1.358502</td>\n      <td>0.132068</td>\n      <td>-1.301397</td>\n      <td>1.308553</td>\n      <td>0.020255</td>\n      <td>0.534805</td>\n      <td>0.242534</td>\n      <td>-0.719921</td>\n      <td>0.287767</td>\n      <td>1.121712</td>\n      <td>...</td>\n      <td>1.455200</td>\n      <td>2.330670</td>\n      <td>-0.746844</td>\n      <td>-0.849162</td>\n      <td>0.949305</td>\n      <td>0.956492</td>\n      <td>1.0</td>\n      <td>0.0</td>\n      <td>1.0</td>\n      <td>0.0</td>\n    </tr>\n    <tr>\n      <th>8</th>\n      <td>-1.389030</td>\n      <td>0.132068</td>\n      <td>0.871783</td>\n      <td>-0.868176</td>\n      <td>2.007639</td>\n      <td>0.750805</td>\n      <td>1.413433</td>\n      <td>0.893167</td>\n      <td>-0.511791</td>\n      <td>0.886069</td>\n      <td>...</td>\n      <td>0.771354</td>\n      <td>0.379236</td>\n      <td>-0.688719</td>\n      <td>1.050467</td>\n      <td>-0.033639</td>\n      <td>-0.038472</td>\n      <td>1.0</td>\n      <td>0.0</td>\n      <td>1.0</td>\n      <td>0.0</td>\n    </tr>\n    <tr>\n      <th>9</th>\n      <td>1.358502</td>\n      <td>0.132068</td>\n      <td>-0.692907</td>\n      <td>0.699069</td>\n      <td>2.326601</td>\n      <td>1.894335</td>\n      <td>2.695259</td>\n      <td>-0.083565</td>\n      <td>1.253899</td>\n      <td>2.064280</td>\n      <td>...</td>\n      <td>0.885328</td>\n      <td>-0.313209</td>\n      <td>1.055037</td>\n      <td>1.037709</td>\n      <td>4.291312</td>\n      <td>4.339368</td>\n      <td>1.0</td>\n      <td>0.0</td>\n      <td>1.0</td>\n      <td>0.0</td>\n    </tr>\n  </tbody>\n</table>\n<p>10 rows × 21 columns</p>\n</div>"
     },
     "metadata": {},
     "execution_count": 248
    }
   ],
   "source": [
    "data_s.head(10)"
   ]
  },
  {
   "cell_type": "code",
   "execution_count": 256,
   "metadata": {},
   "outputs": [],
   "source": [
    "new = pd.concat([data_s,newdf],axis=1)"
   ]
  },
  {
   "cell_type": "code",
   "execution_count": 258,
   "metadata": {},
   "outputs": [],
   "source": [
    "new.to_csv(\"data.csv\",index=False)"
   ]
  }
 ]
}